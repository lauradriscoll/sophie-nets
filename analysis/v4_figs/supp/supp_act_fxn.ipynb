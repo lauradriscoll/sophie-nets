{
 "cells": [
  {
   "cell_type": "code",
   "execution_count": 1,
   "metadata": {},
   "outputs": [],
   "source": [
    "# Python program showing Graphical\n",
    "# representation of tanh() function\n",
    "import numpy as np\n",
    "import matplotlib.pyplot as plt\n",
    "\n",
    "import os\n",
    "# import pdb\n",
    "# import numpy as np\n",
    "# import numpy.random as npr\n",
    "# import tensorflow as tf\n",
    "# from tensorflow.python.ops import parallel_for as pfor\n",
    "import sys\n",
    "# import json\n",
    "# import re\n",
    "# import matplotlib.pyplot as plt\n",
    "# from scipy import stats\n",
    "# from numpy import linalg as LA\n",
    "\n",
    "import getpass\n",
    "ui = getpass.getuser()\n",
    "if ui == 'laura':\n",
    "    p = '/home/laura'\n",
    "elif ui == 'lauradriscoll':\n",
    "    p = '/Users/lauradriscoll/Documents'\n",
    "    \n",
    "    \n",
    "plt.rcParams.update({'font.size': 20})\n"
   ]
  },
  {
   "cell_type": "code",
   "execution_count": 2,
   "metadata": {},
   "outputs": [],
   "source": [
    "figpath = os.path.join(p,'code','overleaf','multitask-nets','v4_figs','supp_act_fxn')\n",
    "if not os.path.exists(figpath):\n",
    "    os.makedirs(figpath)"
   ]
  },
  {
   "cell_type": "code",
   "execution_count": 10,
   "metadata": {},
   "outputs": [
    {
     "name": "stderr",
     "output_type": "stream",
     "text": [
      "/usr/local/Caskroom/miniconda/base/envs/tensorflow/lib/python2.7/site-packages/matplotlib/figure.py:2299: UserWarning: This figure includes Axes that are not compatible with tight_layout, so results might be incorrect.\n",
      "  warnings.warn(\"This figure includes Axes that are not compatible \"\n"
     ]
    },
    {
     "data": {
      "image/png": "[encoded data removed]",
      "text/plain": [
       "<Figure size 360x360 with 1 Axes>"
      ]
     },
     "metadata": {},
     "output_type": "display_data"
    }
   ],
   "source": [
    "in_array = np.linspace(-10, 10, 120)\n",
    "out_array = np.tanh(in_array)\n",
    "fxn = 'Tanh'\n",
    "\n",
    "fig = plt.figure(figsize=(5, 5),tight_layout=True,facecolor='white')\n",
    "ax = plt.subplot(111)\n",
    "plt.rcParams.update({'font.size': 20})\n",
    "  \n",
    "plt.plot(in_array, out_array, '-k',linewidth = 8,alpha = .8)\n",
    "# plt.title(fxn)\n",
    "plt.xlabel(\"X\")\n",
    "plt.ylabel(\"Y\")\n",
    "ax.set_aspect('equal')\n",
    "ax.grid(True, which='both')\n",
    "\n",
    "ax.axhline(y=0, color='k',alpha = .3)\n",
    "ax.axvline(x=0, color='k',alpha = .3)\n",
    "plt.xlim((-np.pi,np.pi))\n",
    "plt.ylim((-np.pi,np.pi))\n",
    "\n",
    "ax.spines['top'].set_visible(False)\n",
    "ax.spines['right'].set_visible(False)\n",
    "plt.savefig(os.path.join(figpath,fxn+'.pdf'))\n",
    "plt.savefig(os.path.join(figpath,fxn+'.png'))\n",
    "plt.show()"
   ]
  },
  {
   "cell_type": "code",
   "execution_count": 11,
   "metadata": {},
   "outputs": [
    {
     "data": {
      "image/png": "[encoded data removed]",
      "text/plain": [
       "<Figure size 360x360 with 1 Axes>"
      ]
     },
     "metadata": {},
     "output_type": "display_data"
    }
   ],
   "source": [
    "fig = plt.figure(figsize=(5, 5),tight_layout=True,facecolor='white')\n",
    "ax = plt.subplot(111)\n",
    "\n",
    "fxn = 'Softplus'\n",
    "softplus = lambda x: np.log(np.exp(x) + 1)\n",
    "out_array = softplus(in_array)\n",
    "  \n",
    "plt.plot(in_array, out_array, '-k',linewidth = 8,alpha = .8)\n",
    "# plt.title(fxn)\n",
    "plt.xlabel(\"X\")\n",
    "plt.ylabel(\"Y\")\n",
    "ax.set_aspect('equal')\n",
    "ax.grid(True, which='both')\n",
    "\n",
    "ax.axhline(y=0, color='k',alpha = .3)\n",
    "ax.axvline(x=0, color='k',alpha = .3)\n",
    "plt.xlim((-np.pi,np.pi))\n",
    "plt.ylim((-np.pi,np.pi))\n",
    "\n",
    "ax.spines['top'].set_visible(False)\n",
    "ax.spines['right'].set_visible(False)\n",
    "plt.savefig(os.path.join(figpath,fxn+'.pdf'))\n",
    "plt.savefig(os.path.join(figpath,fxn+'.png'))\n",
    "plt.show()\n"
   ]
  },
  {
   "cell_type": "code",
   "execution_count": null,
   "metadata": {},
   "outputs": [],
   "source": []
  }
 ],
 "metadata": {
  "kernelspec": {
   "display_name": "Python 2",
   "language": "python",
   "name": "python2"
  },
  "language_info": {
   "codemirror_mode": {
    "name": "ipython",
    "version": 2
   },
   "file_extension": ".py",
   "mimetype": "text/x-python",
   "name": "python",
   "nbconvert_exporter": "python",
   "pygments_lexer": "ipython2",
   "version": "2.7.18"
  }
 },
 "nbformat": 4,
 "nbformat_minor": 2
}
