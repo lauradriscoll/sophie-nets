{
 "cells": [
  {
   "cell_type": "code",
   "execution_count": 1,
   "metadata": {},
   "outputs": [],
   "source": [
    "from __future__ import absolute_import\n",
    "from __future__ import division\n",
    "from __future__ import print_function\n",
    "\n",
    "import os\n",
    "import numpy as np\n",
    "import pickle\n",
    "import matplotlib.pyplot as plt\n",
    "import sys\n",
    "import json\n",
    "from numpy import linalg as LA\n",
    "import tensorflow as tf\n",
    "import getpass\n",
    "ui = getpass.getuser()\n",
    "if ui == 'laura':\n",
    "    p = '/home/laura'\n",
    "elif ui == 'lauradriscoll':\n",
    "    p = '/Users/lauradriscoll/Documents'\n",
    "elif ui == 'slibkind':\n",
    "    p = '/Users/slibkind/Documents/'\n",
    "##ADD YOUR PATH TO CODE REPOS HERE\n",
    "\n",
    "net = 'binary_inputs'\n",
    "PATH_YANGNET = os.path.join(p,'code/sophie-nets',net) \n",
    "sys.path.insert(0, PATH_YANGNET)\n",
    "from task import generate_trials, rule_name, rule_index_map, rules_dict\n",
    "from network import Model, get_perf, FixedPoint_Model\n",
    "import tools\n",
    "\n",
    "from thesis_tools import plot_interp_pca1D"
   ]
  },
  {
   "cell_type": "code",
   "execution_count": 2,
   "metadata": {},
   "outputs": [],
   "source": [
    "# Get the network\n",
    "#WHERE IS THE NETWORK\n",
    "def get_network(rule_trains):\n",
    "  rnn_type = 'LeakyRNN' \n",
    "  activation = 'softplus'\n",
    "  w_init = 'randgauss'\n",
    "  ruleset = 'basic' # what set of tasks (look up in task.py)\n",
    "  n_rnn = str(256)\n",
    "  l2w = -7.0        # exponent of regularization terms\n",
    "  l2h = -7.0\n",
    "  l1w = 0\n",
    "  l1h = 0\n",
    "  lr = -7.0   # learning rate\n",
    "  seed = str(0)\n",
    "  rule_trains_str = '_'.join(rule_trains)\n",
    "  sigma_rec = 1/20\n",
    "  sigma_x = 2/20\n",
    "  w_rec_coeff = .9\n",
    "\n",
    "  net_name = 'lr'+\"{:.1f}\".format(-lr)+'l2_w'+\"{:.1f}\".format(-l2w)+'_h'+\"{:.1f}\".format(-l2h)\n",
    "  net_name2 = '_sig_rec'+str(sigma_rec)+'_sig_x'+str(sigma_x)+'_w_rec_coeff'+\"{:.1f}\".format(w_rec_coeff)+'_'+rule_trains_str\n",
    "\n",
    "  dir_specific_all = os.path.join(ruleset,rnn_type,activation,\n",
    "      w_init,str(len(rule_trains))+'_tasks',str(n_rnn)+'_n_rnn',net_name+net_name2)\n",
    "\n",
    "  return os.path.join(p,'data','sophie-nets',net,'data',dir_specific_all,str(seed))"
   ]
  },
  {
   "cell_type": "code",
   "execution_count": 3,
   "metadata": {},
   "outputs": [],
   "source": [
    "dir = 'figures'"
   ]
  },
  {
   "attachments": {},
   "cell_type": "markdown",
   "metadata": {},
   "source": [
    "# Memory Response Task"
   ]
  },
  {
   "cell_type": "code",
   "execution_count": 4,
   "metadata": {},
   "outputs": [],
   "source": [
    "ruleset = 'basic'\n",
    "m = get_network(['delaygo'])\n",
    "q_tol_name = 'tol_q_e_6.0'\n"
   ]
  },
  {
   "attachments": {},
   "cell_type": "markdown",
   "metadata": {},
   "source": [
    "## Structure of the input and output"
   ]
  },
  {
   "cell_type": "code",
   "execution_count": 5,
   "metadata": {},
   "outputs": [
    {
     "name": "stdout",
     "output_type": "stream",
     "text": [
      "Variables being optimized:\n",
      "<tf.Variable 'rnn/leaky_rnn_cell/kernel:0' shape=(263, 256) dtype=float32_ref>\n",
      "<tf.Variable 'rnn/leaky_rnn_cell/bias:0' shape=(256,) dtype=float32_ref>\n",
      "<tf.Variable 'output/weights:0' shape=(256, 3) dtype=float32_ref>\n",
      "<tf.Variable 'output/biases:0' shape=(3,) dtype=float32_ref>\n",
      "WARNING:tensorflow:From /Users/slibkind/opt/anaconda3/envs/motifs/lib/python3.5/site-packages/tensorflow/python/util/tf_should_use.py:118: initialize_all_variables (from tensorflow.python.ops.variables) is deprecated and will be removed after 2017-03-02.\n",
      "Instructions for updating:\n",
      "Use `tf.global_variables_initializer` instead.\n",
      "INFO:tensorflow:Restoring parameters from /Users/slibkind/Documents/data/sophie-nets/binary_inputs/data/basic/LeakyRNN/softplus/randgauss/1_tasks/256_n_rnn/lr7.0l2_w7.0_h7.0_sig_rec0.05_sig_x0.1_w_rec_coeff0.9_delaygo/0/model.ckpt\n",
      "Model restored from file: /Users/slibkind/Documents/data/sophie-nets/binary_inputs/data/basic/LeakyRNN/softplus/randgauss/1_tasks/256_n_rnn/lr7.0l2_w7.0_h7.0_sig_rec0.05_sig_x0.1_w_rec_coeff0.9_delaygo/0/model.ckpt\n"
     ]
    }
   ],
   "source": [
    "rule = 'delaygo'\n",
    "\n",
    "model = Model(m)\n",
    "with tf.Session() as sess:\n",
    "    model.restore()      # set up tf graph with model m\n",
    "    var_list = model.var_list # variables learned over training\n",
    "    params = [sess.run(var) for var in var_list]\n",
    "    hparams = model.hp\n",
    "    "
   ]
  },
  {
   "cell_type": "code",
   "execution_count": 6,
   "metadata": {},
   "outputs": [],
   "source": [
    "trial = generate_trials(rule, hparams, mode = 'test', noise_on = False)"
   ]
  },
  {
   "cell_type": "code",
   "execution_count": 7,
   "metadata": {},
   "outputs": [
    {
     "data": {
      "image/png": "[encoded data removed]",
      "text/plain": [
       "<Figure size 432x288 with 1 Axes>"
      ]
     },
     "metadata": {
      "needs_background": "light"
     },
     "output_type": "display_data"
    }
   ],
   "source": [
    "plt.plot(trial.x[:, 1, 0:3])\n",
    "plt.legend(['fixation', 'stimulus 1', 'stimulus 2'])\n",
    "plt.xlabel('time')\n",
    "plt.ylabel('activation')\n",
    "\n",
    "plt.xticks([12.5, 37.5, 75, 112.5], labels=['fix', 'stim', 'delay', 'go'])\n",
    "plt.tick_params(axis='x', which='both', length=0, width=0, direction='in')\n",
    "\n",
    "\n",
    "# Create dashed vertical lines\n",
    "vertical_lines = [25, 50, 100]\n",
    "for line in vertical_lines:\n",
    "    plt.axvline(x=line, color='black', alpha=0.2, ls='dashed')\n",
    "\n",
    "plt.savefig(os.path.join(dir, 'memory_rnn_inputs.pdf'))\n"
   ]
  },
  {
   "cell_type": "code",
   "execution_count": 8,
   "metadata": {},
   "outputs": [
    {
     "data": {
      "image/png": "[encoded data removed]",
      "text/plain": [
       "<Figure size 432x288 with 1 Axes>"
      ]
     },
     "metadata": {
      "needs_background": "light"
     },
     "output_type": "display_data"
    }
   ],
   "source": [
    "lines = plt.plot(trial.y[:,1,[1,2]])\n",
    "lines[0].set_color('orange')\n",
    "lines[1].set_color('green')\n",
    "plt.legend(['response 1', 'response 2'])\n",
    "plt.xlabel('time')\n",
    "plt.ylabel('activation')\n",
    "\n",
    "plt.xticks([12.5, 37.5, 75, 112.5], labels=['fix', 'stim', 'delay', 'go'])\n",
    "plt.tick_params(axis='x', which='both', length=0, width=0, direction='in')\n",
    "\n",
    "\n",
    "# Create dashed vertical lines\n",
    "vertical_lines = [25, 50, 100]\n",
    "for line in vertical_lines:\n",
    "    plt.axvline(x=line, color='black', alpha=0.2, ls='dashed')\n",
    "\n",
    "\n",
    "plt.savefig(os.path.join(dir, 'memory_rnn_true_outputs.pdf'))\n"
   ]
  },
  {
   "cell_type": "code",
   "execution_count": 9,
   "metadata": {},
   "outputs": [
    {
     "name": "stdout",
     "output_type": "stream",
     "text": [
      "Variables being optimized:\n",
      "<tf.Variable 'rnn/leaky_rnn_cell/kernel:0' shape=(263, 256) dtype=float32_ref>\n",
      "<tf.Variable 'rnn/leaky_rnn_cell/bias:0' shape=(256,) dtype=float32_ref>\n",
      "<tf.Variable 'output/weights:0' shape=(256, 3) dtype=float32_ref>\n",
      "<tf.Variable 'output/biases:0' shape=(3,) dtype=float32_ref>\n",
      "INFO:tensorflow:Restoring parameters from /Users/slibkind/Documents/data/sophie-nets/binary_inputs/data/basic/LeakyRNN/softplus/randgauss/1_tasks/256_n_rnn/lr7.0l2_w7.0_h7.0_sig_rec0.05_sig_x0.1_w_rec_coeff0.9_delaygo/0/model.ckpt\n",
      "Model restored from file: /Users/slibkind/Documents/data/sophie-nets/binary_inputs/data/basic/LeakyRNN/softplus/randgauss/1_tasks/256_n_rnn/lr7.0l2_w7.0_h7.0_sig_rec0.05_sig_x0.1_w_rec_coeff0.9_delaygo/0/model.ckpt\n"
     ]
    }
   ],
   "source": [
    "rule = 'delaygo'\n",
    "\n",
    "model = Model(m)\n",
    "with tf.Session() as sess:\n",
    "    model.restore()      # set up tf graph with model m\n",
    "    trial = generate_trials(rule, hparams, mode='test', noise_on=False)\n",
    "    feed_dict = tools.gen_feed_dict(model, trial, hparams)\n",
    "    h, y_hat = sess.run([model.h, model.y_hat], feed_dict=feed_dict) #HIDDEN STATE, OUTPUT (n_TIME, n_TRIAL, n_UNIT)"
   ]
  },
  {
   "cell_type": "code",
   "execution_count": 10,
   "metadata": {},
   "outputs": [
    {
     "data": {
      "image/png": "[encoded data removed]",
      "text/plain": [
       "<Figure size 432x288 with 1 Axes>"
      ]
     },
     "metadata": {
      "needs_background": "light"
     },
     "output_type": "display_data"
    }
   ],
   "source": [
    "lines = plt.plot(y_hat[:,1,[1,2]])\n",
    "lines[0].set_color('orange')\n",
    "lines[1].set_color('green')\n",
    "\n",
    "plt.legend(['response 1', 'response 2'])\n",
    "plt.xlabel('time')\n",
    "plt.ylabel('activation')\n",
    "\n",
    "plt.xticks([12.5, 37.5, 75, 112.5], labels=['fix', 'stim', 'delay', 'go'])\n",
    "plt.tick_params(axis='x', which='both', length=0, width=0, direction='in')\n",
    "\n",
    "\n",
    "# Create dashed vertical lines\n",
    "vertical_lines = [25, 50, 100]\n",
    "for line in vertical_lines:\n",
    "    plt.axvline(x=line, color='black', alpha=0.2, ls='dashed')\n",
    "\n",
    "plt.savefig(os.path.join(dir, 'memory_rnn_outputs.pdf'))"
   ]
  },
  {
   "attachments": {},
   "cell_type": "markdown",
   "metadata": {},
   "source": [
    "## Fixed Point Structure"
   ]
  },
  {
   "attachments": {},
   "cell_type": "markdown",
   "metadata": {},
   "source": [
    "Show the fixed point structure at each task period"
   ]
  },
  {
   "attachments": {},
   "cell_type": "markdown",
   "metadata": {},
   "source": [
    "Show the interpolated fixed point structure over a sample rune"
   ]
  },
  {
   "attachments": {},
   "cell_type": "markdown",
   "metadata": {},
   "source": [
    "Show the fixed point structure interpolating between `stim 1`, `delay`, and `stim 2` periods"
   ]
  },
  {
   "cell_type": "code",
   "execution_count": 11,
   "metadata": {},
   "outputs": [
    {
     "ename": "TypeError",
     "evalue": "unhashable type: 'list'",
     "output_type": "error",
     "traceback": [
      "\u001b[0;31m---------------------------------------------------------------------------\u001b[0m",
      "\u001b[0;31mTypeError\u001b[0m                                 Traceback (most recent call last)",
      "\u001b[0;32m<ipython-input-11-6058f900a058>\u001b[0m in \u001b[0;36m<module>\u001b[0;34m()\u001b[0m\n\u001b[1;32m      6\u001b[0m \u001b[0mtrial_num\u001b[0m \u001b[0;34m=\u001b[0m \u001b[0;34m[\u001b[0m\u001b[0;36m0\u001b[0m\u001b[0;34m,\u001b[0m\u001b[0;36m0\u001b[0m\u001b[0;34m,\u001b[0m \u001b[0;36m0\u001b[0m\u001b[0;34m,\u001b[0m\u001b[0;36m0\u001b[0m\u001b[0;34m]\u001b[0m\u001b[0;34m\u001b[0m\u001b[0m\n\u001b[1;32m      7\u001b[0m \u001b[0;34m\u001b[0m\u001b[0m\n\u001b[0;32m----> 8\u001b[0;31m \u001b[0mplot_interp_pca1D\u001b[0m\u001b[0;34m(\u001b[0m\u001b[0mri_set\u001b[0m\u001b[0;34m,\u001b[0m \u001b[0mepoch_list\u001b[0m\u001b[0;34m,\u001b[0m \u001b[0mtrial_num\u001b[0m\u001b[0;34m,\u001b[0m \u001b[0mruleset\u001b[0m\u001b[0;34m,\u001b[0m \u001b[0mm\u001b[0m\u001b[0;34m,\u001b[0m \u001b[0mq_tol_name\u001b[0m\u001b[0;34m,\u001b[0m \u001b[0mq_thresh\u001b[0m \u001b[0;34m=\u001b[0m \u001b[0;36m1e-8\u001b[0m\u001b[0;34m)\u001b[0m\u001b[0;34m\u001b[0m\u001b[0m\n\u001b[0m",
      "\u001b[0;32m/Users/slibkind/Documents/code/sophie-nets/analysis/thesis/thesis_tools.py\u001b[0m in \u001b[0;36mplot_interp_pca1D\u001b[0;34m(ri_set, epoch_list, trial_num, ruleset, m, q_tol_name, q_thresh, n_interp)\u001b[0m\n\u001b[1;32m    129\u001b[0m \u001b[0;32mdef\u001b[0m \u001b[0mplot_interp_pca1D\u001b[0m\u001b[0;34m(\u001b[0m\u001b[0mri_set\u001b[0m\u001b[0;34m,\u001b[0m \u001b[0mepoch_list\u001b[0m\u001b[0;34m,\u001b[0m \u001b[0mtrial_num\u001b[0m\u001b[0;34m,\u001b[0m \u001b[0mruleset\u001b[0m\u001b[0;34m,\u001b[0m \u001b[0mm\u001b[0m\u001b[0;34m,\u001b[0m \u001b[0mq_tol_name\u001b[0m\u001b[0;34m,\u001b[0m \u001b[0mq_thresh\u001b[0m \u001b[0;34m=\u001b[0m \u001b[0;36m1e-6\u001b[0m\u001b[0;34m,\u001b[0m \u001b[0mn_interp\u001b[0m \u001b[0;34m=\u001b[0m \u001b[0;36m20\u001b[0m\u001b[0;34m)\u001b[0m\u001b[0;34m:\u001b[0m\u001b[0;34m\u001b[0m\u001b[0m\n\u001b[1;32m    130\u001b[0m \u001b[0;34m\u001b[0m\u001b[0m\n\u001b[0;32m--> 131\u001b[0;31m   \u001b[0mpca\u001b[0m \u001b[0;34m=\u001b[0m \u001b[0mget_pca\u001b[0m\u001b[0;34m(\u001b[0m\u001b[0mri_set\u001b[0m\u001b[0;34m,\u001b[0m \u001b[0mepoch_list\u001b[0m\u001b[0;34m,\u001b[0m \u001b[0mtrial_num\u001b[0m\u001b[0;34m,\u001b[0m \u001b[0mruleset\u001b[0m\u001b[0;34m,\u001b[0m \u001b[0mm\u001b[0m\u001b[0;34m,\u001b[0m \u001b[0mq_tol_name\u001b[0m\u001b[0;34m,\u001b[0m  \u001b[0mn_components\u001b[0m \u001b[0;34m=\u001b[0m \u001b[0;36m1\u001b[0m\u001b[0;34m,\u001b[0m \u001b[0mn_interp\u001b[0m \u001b[0;34m=\u001b[0m \u001b[0;36m20\u001b[0m\u001b[0;34m,\u001b[0m \u001b[0mq_thresh\u001b[0m \u001b[0;34m=\u001b[0m \u001b[0mq_thresh\u001b[0m\u001b[0;34m)\u001b[0m\u001b[0;34m\u001b[0m\u001b[0m\n\u001b[0m\u001b[1;32m    132\u001b[0m \u001b[0;34m\u001b[0m\u001b[0m\n\u001b[1;32m    133\u001b[0m   \u001b[0mfig_width\u001b[0m \u001b[0;34m=\u001b[0m \u001b[0;36m10\u001b[0m\u001b[0;34m\u001b[0m\u001b[0m\n",
      "\u001b[0;32m/Users/slibkind/Documents/code/sophie-nets/analysis/thesis/thesis_tools.py\u001b[0m in \u001b[0;36mget_pca\u001b[0;34m(ri_set, epoch_list, trial_num, ruleset, m, q_tol_name, n_components, n_interp, q_thresh)\u001b[0m\n\u001b[1;32m     79\u001b[0m   \u001b[0;32mfor\u001b[0m \u001b[0mti\u001b[0m \u001b[0;32min\u001b[0m \u001b[0mrange\u001b[0m\u001b[0;34m(\u001b[0m\u001b[0mlen\u001b[0m\u001b[0;34m(\u001b[0m\u001b[0mri_set\u001b[0m\u001b[0;34m)\u001b[0m\u001b[0;34m-\u001b[0m\u001b[0;36m1\u001b[0m\u001b[0;34m)\u001b[0m\u001b[0;34m:\u001b[0m\u001b[0;34m\u001b[0m\u001b[0m\n\u001b[1;32m     80\u001b[0m     \u001b[0;32mfor\u001b[0m \u001b[0mstep_i\u001b[0m \u001b[0;32min\u001b[0m \u001b[0mrange\u001b[0m\u001b[0;34m(\u001b[0m\u001b[0mn_interp\u001b[0m \u001b[0;34m+\u001b[0m \u001b[0;36m1\u001b[0m\u001b[0;34m)\u001b[0m\u001b[0;34m:\u001b[0m\u001b[0;34m\u001b[0m\u001b[0m\n\u001b[0;32m---> 81\u001b[0;31m       \u001b[0mxstar_i\u001b[0m \u001b[0;34m=\u001b[0m \u001b[0mget_xstar\u001b[0m\u001b[0;34m(\u001b[0m\u001b[0mri_set\u001b[0m\u001b[0;34m[\u001b[0m\u001b[0mti\u001b[0m\u001b[0;34m:\u001b[0m\u001b[0mti\u001b[0m\u001b[0;34m+\u001b[0m\u001b[0;36m2\u001b[0m\u001b[0;34m]\u001b[0m\u001b[0;34m,\u001b[0m \u001b[0mepoch_list\u001b[0m\u001b[0;34m[\u001b[0m\u001b[0mti\u001b[0m\u001b[0;34m:\u001b[0m\u001b[0mti\u001b[0m\u001b[0;34m+\u001b[0m\u001b[0;36m2\u001b[0m\u001b[0;34m]\u001b[0m\u001b[0;34m,\u001b[0m \u001b[0mtrial_num\u001b[0m\u001b[0;34m[\u001b[0m\u001b[0mti\u001b[0m\u001b[0;34m:\u001b[0m\u001b[0mti\u001b[0m\u001b[0;34m+\u001b[0m\u001b[0;36m2\u001b[0m\u001b[0;34m]\u001b[0m\u001b[0;34m,\u001b[0m \u001b[0mstep_i\u001b[0m\u001b[0;34m,\u001b[0m \u001b[0mruleset\u001b[0m\u001b[0;34m,\u001b[0m \u001b[0mm\u001b[0m\u001b[0;34m,\u001b[0m \u001b[0mq_tol_name\u001b[0m\u001b[0;34m,\u001b[0m \u001b[0mq_thresh\u001b[0m \u001b[0;34m=\u001b[0m \u001b[0mq_thresh\u001b[0m\u001b[0;34m)\u001b[0m\u001b[0;34m\u001b[0m\u001b[0m\n\u001b[0m\u001b[1;32m     82\u001b[0m       \u001b[0mresults\u001b[0m\u001b[0;34m.\u001b[0m\u001b[0mappend\u001b[0m\u001b[0;34m(\u001b[0m\u001b[0mxstar_i\u001b[0m\u001b[0;34m)\u001b[0m\u001b[0;34m\u001b[0m\u001b[0m\n\u001b[1;32m     83\u001b[0m \u001b[0;34m\u001b[0m\u001b[0m\n",
      "\u001b[0;32m/Users/slibkind/Documents/code/sophie-nets/analysis/thesis/thesis_tools.py\u001b[0m in \u001b[0;36mget_xstar\u001b[0;34m(ri_set, epoch_list, trial_num, step_i, ruleset, m, q_tol_name, q_thresh, step_file)\u001b[0m\n\u001b[1;32m     48\u001b[0m               step_file = 'interp_tasks_small_init_stim'):\n\u001b[1;32m     49\u001b[0m \u001b[0;34m\u001b[0m\u001b[0m\n\u001b[0;32m---> 50\u001b[0;31m   \u001b[0mfp_struct\u001b[0m \u001b[0;34m=\u001b[0m \u001b[0mget_fp_struct\u001b[0m\u001b[0;34m(\u001b[0m\u001b[0mri_set\u001b[0m\u001b[0;34m,\u001b[0m \u001b[0mepoch_list\u001b[0m\u001b[0;34m,\u001b[0m \u001b[0mtrial_num\u001b[0m\u001b[0;34m,\u001b[0m \u001b[0mstep_i\u001b[0m\u001b[0;34m,\u001b[0m \u001b[0mruleset\u001b[0m\u001b[0;34m,\u001b[0m \u001b[0mm\u001b[0m\u001b[0;34m,\u001b[0m \u001b[0mq_tol_name\u001b[0m\u001b[0;34m,\u001b[0m \u001b[0mq_thresh\u001b[0m\u001b[0;34m,\u001b[0m \u001b[0mstep_file\u001b[0m\u001b[0;34m)\u001b[0m\u001b[0;34m\u001b[0m\u001b[0m\n\u001b[0m\u001b[1;32m     51\u001b[0m   \u001b[0mindices\u001b[0m \u001b[0;34m=\u001b[0m \u001b[0mget_fps_below_qthresh_idx\u001b[0m\u001b[0;34m(\u001b[0m\u001b[0mri_set\u001b[0m\u001b[0;34m,\u001b[0m \u001b[0mepoch_list\u001b[0m\u001b[0;34m,\u001b[0m \u001b[0mtrial_num\u001b[0m\u001b[0;34m,\u001b[0m \u001b[0mstep_i\u001b[0m\u001b[0;34m,\u001b[0m \u001b[0mruleset\u001b[0m\u001b[0;34m,\u001b[0m \u001b[0mm\u001b[0m\u001b[0;34m,\u001b[0m \u001b[0mq_tol_name\u001b[0m\u001b[0;34m,\u001b[0m \u001b[0mq_thresh\u001b[0m\u001b[0;34m,\u001b[0m \u001b[0mstep_file\u001b[0m\u001b[0;34m)\u001b[0m\u001b[0;34m\u001b[0m\u001b[0m\n\u001b[1;32m     52\u001b[0m   \u001b[0;32mreturn\u001b[0m \u001b[0mfp_struct\u001b[0m\u001b[0;34m[\u001b[0m\u001b[0;34m'xstar'\u001b[0m\u001b[0;34m]\u001b[0m\u001b[0;34m[\u001b[0m\u001b[0mindices\u001b[0m\u001b[0;34m]\u001b[0m\u001b[0;34m\u001b[0m\u001b[0m\n",
      "\u001b[0;32m/Users/slibkind/Documents/code/sophie-nets/analysis/thesis/thesis_tools.py\u001b[0m in \u001b[0;36mget_fp_struct\u001b[0;34m(ri_set, epoch_list, trial_num, step_i, ruleset, m, q_tol_name, q_thresh, step_file)\u001b[0m\n\u001b[1;32m     23\u001b[0m               \u001b[0mq_thresh\u001b[0m \u001b[0;34m=\u001b[0m \u001b[0;36m1e-6\u001b[0m\u001b[0;34m,\u001b[0m\u001b[0;34m\u001b[0m\u001b[0m\n\u001b[1;32m     24\u001b[0m               step_file = 'interp_tasks_small_init_stim'):\n\u001b[0;32m---> 25\u001b[0;31m     \u001b[0mf\u001b[0m \u001b[0;34m=\u001b[0m \u001b[0mget_interp_filename\u001b[0m\u001b[0;34m(\u001b[0m\u001b[0mri_set\u001b[0m\u001b[0;34m,\u001b[0m \u001b[0mepoch_list\u001b[0m\u001b[0;34m,\u001b[0m \u001b[0mtrial_num\u001b[0m\u001b[0;34m,\u001b[0m \u001b[0mruleset\u001b[0m\u001b[0;34m)\u001b[0m\u001b[0;34m\u001b[0m\u001b[0m\n\u001b[0m\u001b[1;32m     26\u001b[0m     \u001b[0mtasks_str\u001b[0m \u001b[0;34m=\u001b[0m \u001b[0;34m'_'\u001b[0m\u001b[0;34m.\u001b[0m\u001b[0mjoin\u001b[0m\u001b[0;34m(\u001b[0m\u001b[0;34m[\u001b[0m\u001b[0mrules_dict\u001b[0m\u001b[0;34m[\u001b[0m\u001b[0mruleset\u001b[0m\u001b[0;34m]\u001b[0m\u001b[0;34m[\u001b[0m\u001b[0mri_set\u001b[0m\u001b[0;34m[\u001b[0m\u001b[0;36m0\u001b[0m\u001b[0;34m]\u001b[0m\u001b[0;34m]\u001b[0m\u001b[0;34m,\u001b[0m\u001b[0mrules_dict\u001b[0m\u001b[0;34m[\u001b[0m\u001b[0mruleset\u001b[0m\u001b[0;34m]\u001b[0m\u001b[0;34m[\u001b[0m\u001b[0mri_set\u001b[0m\u001b[0;34m[\u001b[0m\u001b[0;36m1\u001b[0m\u001b[0;34m]\u001b[0m\u001b[0;34m]\u001b[0m\u001b[0;34m]\u001b[0m\u001b[0;34m)\u001b[0m\u001b[0;34m\u001b[0m\u001b[0m\n\u001b[1;32m     27\u001b[0m     \u001b[0msave_dir\u001b[0m \u001b[0;34m=\u001b[0m \u001b[0mos\u001b[0m\u001b[0;34m.\u001b[0m\u001b[0mpath\u001b[0m\u001b[0;34m.\u001b[0m\u001b[0mjoin\u001b[0m\u001b[0;34m(\u001b[0m\u001b[0mm\u001b[0m\u001b[0;34m,\u001b[0m\u001b[0mstep_file\u001b[0m\u001b[0;34m,\u001b[0m\u001b[0mtasks_str\u001b[0m\u001b[0;34m)\u001b[0m\u001b[0;34m\u001b[0m\u001b[0m\n",
      "\u001b[0;32m/Users/slibkind/Documents/code/sophie-nets/analysis/thesis/thesis_tools.py\u001b[0m in \u001b[0;36mget_interp_filename\u001b[0;34m(ri_set, epoch_list, t_set, ruleset)\u001b[0m\n\u001b[1;32m     10\u001b[0m \u001b[0;34m\u001b[0m\u001b[0m\n\u001b[1;32m     11\u001b[0m \u001b[0;32mdef\u001b[0m \u001b[0mget_interp_filename\u001b[0m\u001b[0;34m(\u001b[0m\u001b[0mri_set\u001b[0m\u001b[0;34m,\u001b[0m \u001b[0mepoch_list\u001b[0m\u001b[0;34m,\u001b[0m \u001b[0mt_set\u001b[0m\u001b[0;34m,\u001b[0m \u001b[0mruleset\u001b[0m\u001b[0;34m)\u001b[0m\u001b[0;34m:\u001b[0m\u001b[0;34m\u001b[0m\u001b[0m\n\u001b[0;32m---> 12\u001b[0;31m   \u001b[0mrule1\u001b[0m\u001b[0;34m,\u001b[0m \u001b[0mrule2\u001b[0m \u001b[0;34m=\u001b[0m \u001b[0mnp\u001b[0m\u001b[0;34m.\u001b[0m\u001b[0marray\u001b[0m\u001b[0;34m(\u001b[0m\u001b[0mrules_dict\u001b[0m\u001b[0;34m[\u001b[0m\u001b[0mruleset\u001b[0m\u001b[0;34m]\u001b[0m\u001b[0;34m)\u001b[0m\u001b[0;34m[\u001b[0m\u001b[0mri_set\u001b[0m\u001b[0;34m]\u001b[0m\u001b[0;34m\u001b[0m\u001b[0m\n\u001b[0m\u001b[1;32m     13\u001b[0m   \u001b[0mfilename\u001b[0m \u001b[0;34m=\u001b[0m \u001b[0mrule1\u001b[0m\u001b[0;34m+\u001b[0m\u001b[0;34m'_'\u001b[0m\u001b[0;34m+\u001b[0m\u001b[0mrule2\u001b[0m\u001b[0;34m+\u001b[0m\u001b[0;34m'_'\u001b[0m\u001b[0;34m+\u001b[0m\u001b[0;34m'_'\u001b[0m\u001b[0;34m.\u001b[0m\u001b[0mjoin\u001b[0m\u001b[0;34m(\u001b[0m\u001b[0mepoch_list\u001b[0m\u001b[0;34m)\u001b[0m\u001b[0;34m+\u001b[0m\u001b[0;34m'_x'\u001b[0m\u001b[0;34m+\u001b[0m\u001b[0mstr\u001b[0m\u001b[0;34m(\u001b[0m\u001b[0mt_set\u001b[0m\u001b[0;34m[\u001b[0m\u001b[0;36m0\u001b[0m\u001b[0;34m]\u001b[0m\u001b[0;34m)\u001b[0m\u001b[0;34m+\u001b[0m\u001b[0;34m'_x'\u001b[0m\u001b[0;34m+\u001b[0m\u001b[0mstr\u001b[0m\u001b[0;34m(\u001b[0m\u001b[0mt_set\u001b[0m\u001b[0;34m[\u001b[0m\u001b[0;36m1\u001b[0m\u001b[0;34m]\u001b[0m\u001b[0;34m)\u001b[0m\u001b[0;34m\u001b[0m\u001b[0m\n\u001b[1;32m     14\u001b[0m   \u001b[0;32mreturn\u001b[0m \u001b[0mfilename\u001b[0m\u001b[0;34m\u001b[0m\u001b[0m\n",
      "\u001b[0;31mTypeError\u001b[0m: unhashable type: 'list'"
     ]
    }
   ],
   "source": [
    "from thesis_tools import plot_interp_pca1D\n",
    "\n",
    "m = get_network(['fdgo', 'delaygo', 'fdanti', 'delayanti'])\n",
    "ri_set = [1, 1, 3,3]\n",
    "epoch_list = ['stim1','delay1', 'delay1', 'stim1']\n",
    "trial_num = [0,0, 0,0] \n",
    "\n",
    "plot_interp_pca1D(ri_set, epoch_list, trial_num, ruleset, m, q_tol_name, q_thresh = 1e-8)"
   ]
  },
  {
   "attachments": {},
   "cell_type": "markdown",
   "metadata": {},
   "source": []
  }
 ],
 "metadata": {
  "kernelspec": {
   "display_name": "motifs",
   "language": "python",
   "name": "python3"
  },
  "language_info": {
   "codemirror_mode": {
    "name": "ipython",
    "version": 3
   },
   "file_extension": ".py",
   "mimetype": "text/x-python",
   "name": "python",
   "nbconvert_exporter": "python",
   "pygments_lexer": "ipython3",
   "version": "3.5.6"
  },
  "orig_nbformat": 4
 },
 "nbformat": 4,
 "nbformat_minor": 2
}
