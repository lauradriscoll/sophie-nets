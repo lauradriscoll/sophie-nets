{
 "cells": [
  {
   "cell_type": "code",
   "execution_count": null,
   "metadata": {},
   "outputs": [],
   "source": [
    "from __future__ import absolute_import, division, print_function\n",
    "import glob\n",
    "import os\n",
    "import pdb\n",
    "import numpy as np\n",
    "import numpy.random as npr\n",
    "import tensorflow as tf\n",
    "import sys\n",
    "import matplotlib.pyplot as plt\n",
    "import pdb\n",
    "import json\n",
    "import getpass\n",
    "from scipy import stats\n",
    "from sklearn import linear_model\n",
    "from numpy import linalg as LA\n",
    "import numpy.random as npr\n",
    "from sklearn.decomposition import PCA\n",
    "import imageio\n",
    "\n",
    "ui = getpass.getuser()\n",
    "if ui == 'laura':\n",
    "    p = '/home/laura'\n",
    "elif ui == 'lauradriscoll':\n",
    "    p = '/Users/lauradriscoll/Documents'\n",
    "elif ui == 'lndrisco':\n",
    "    p = '/home/users/lndrisco'\n",
    "\n",
    "net = 'stepnet'\n",
    "PATH_YANGNET = os.path.join(p,'code/multitask-nets',net)\n",
    "\n",
    "sys.path.insert(0, PATH_YANGNET)\n",
    "from task import generate_trials, rule_name, rule_index_map, rules_dict\n",
    "from network import Model\n",
    "import tools\n",
    "from tools_lnd import make_axes, name_best_ckpt, generate_Beta_epoch, make_h_combined, same_stim_trial\n",
    "from tools_lnd import get_T_inds\n",
    "\n",
    "PATH_TO_RECURRENT_WHISPERER = p+'/code/recurrent-whisperer'#'/home/laura/code/recurrent-whisperer'#\n",
    "sys.path.insert(0, PATH_TO_RECURRENT_WHISPERER)\n",
    "from RecurrentWhisperer import RecurrentWhisperer\n",
    "\n",
    "PATH_TO_FIXED_POINT_FINDER = p+'/code/fixed-point-finder' #'/home/laura/code/fixed-point-finder-experimental'#\n",
    "sys.path.insert(0, PATH_TO_FIXED_POINT_FINDER)\n",
    "from FixedPointFinder import FixedPointFinder"
   ]
  }
 ],
 "metadata": {
  "kernelspec": {
   "display_name": "Python 2",
   "language": "python",
   "name": "python2"
  },
  "language_info": {
   "codemirror_mode": {
    "name": "ipython",
    "version": 2
   },
   "file_extension": ".py",
   "mimetype": "text/x-python",
   "name": "python",
   "nbconvert_exporter": "python",
   "pygments_lexer": "ipython2",
   "version": "2.7.14"
  }
 },
 "nbformat": 4,
 "nbformat_minor": 2
}
