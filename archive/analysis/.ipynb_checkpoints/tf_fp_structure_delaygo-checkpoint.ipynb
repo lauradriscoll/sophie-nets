{
 "cells": [
  {
   "cell_type": "code",
   "execution_count": 1,
   "metadata": {},
   "outputs": [],
   "source": [
    "from __future__ import absolute_import, division, print_function\n",
    "import glob\n",
    "import os\n",
    "import pdb\n",
    "import numpy as np\n",
    "import numpy.random as npr\n",
    "import tensorflow as tf\n",
    "import sys\n",
    "import matplotlib.pyplot as plt\n",
    "import pdb\n",
    "import getpass\n",
    "from scipy import stats\n",
    "from sklearn import linear_model\n",
    "from numpy import linalg as LA\n",
    "import numpy.random as npr\n",
    "from sklearn.decomposition import PCA\n",
    "\n",
    "ui = getpass.getuser()\n",
    "if ui == 'laura':\n",
    "    p = '/home/laura'\n",
    "elif ui == 'lauradriscoll':\n",
    "    p = '/Users/lauradriscoll/Documents'\n",
    "elif ui == 'lndrisco':\n",
    "    p = '/home/users/lndrisco'\n",
    "\n",
    "net = 'stepnet'\n",
    "PATH_YANGNET = os.path.join(p,'code/multitask-nets',net)\n",
    "\n",
    "PATH_YANGNET = os.path.join(p,'code/multitask-nets',net)\n",
    "\n",
    "sys.path.insert(0, PATH_YANGNET)\n",
    "from task import generate_trials, rule_name, rule_index_map, rules_dict\n",
    "from network import Model\n",
    "import tools\n",
    "from tools_lnd import get_T_inds, plot_N, plot_FP, name_best_ckpt, generate_Beta_epoch, make_h_combined, same_stim_trial\n",
    "\n",
    "PATH_TO_RECURRENT_WHISPERER = p+'/code/recurrent-whisperer'#'/home/laura/code/recurrent-whisperer'#\n",
    "sys.path.insert(0, PATH_TO_RECURRENT_WHISPERER)\n",
    "from RecurrentWhisperer import RecurrentWhisperer\n",
    "\n",
    "PATH_TO_FIXED_POINT_FINDER = p+'/code/fixed-point-finder' #'/home/laura/code/fixed-point-finder-experimental'#\n",
    "sys.path.insert(0, PATH_TO_FIXED_POINT_FINDER)\n",
    "from FixedPointFinder import FixedPointFinder"
   ]
  },
  {
   "cell_type": "code",
   "execution_count": 2,
   "metadata": {},
   "outputs": [],
   "source": [
    "def comp_eig_decomp(Ms, sort_by='real',\n",
    "                                     do_compute_lefts=True):\n",
    "  \"\"\"Compute the eigenvalues of the matrix M. No assumptions are made on M.\n",
    "\n",
    "  Arguments: \n",
    "    M: 3D np.array nmatrices x dim x dim matrix\n",
    "    do_compute_lefts: Compute the left eigenvectors? Requires a pseudo-inverse \n",
    "      call.\n",
    "\n",
    "  Returns: \n",
    "    list of dictionaries with eigenvalues components: sorted \n",
    "      eigenvalues, sorted right eigenvectors, and sored left eigenvectors \n",
    "      (as column vectors).\n",
    "  \"\"\"\n",
    "  if sort_by == 'magnitude':\n",
    "    sort_fun = np.abs\n",
    "  elif sort_by == 'real':\n",
    "    sort_fun = np.real\n",
    "  else:\n",
    "    assert False, \"Not implemented yet.\"      \n",
    "  \n",
    "  decomps = []\n",
    "  L = None  \n",
    "  for M in Ms:\n",
    "    evals, R = LA.eig(M)    \n",
    "    indices = np.flipud(np.argsort(sort_fun(evals)))\n",
    "    if do_compute_lefts:\n",
    "      L = LA.pinv(R).T  # as columns      \n",
    "      L = L[:, indices]\n",
    "    decomps.append({'evals' : evals[indices], 'R' : R[:, indices],  'L' : L})\n",
    "  \n",
    "  return decomps"
   ]
  },
  {
   "cell_type": "code",
   "execution_count": 3,
   "metadata": {},
   "outputs": [],
   "source": [
    "def plot_FP(X, D, eig_decomps, cr):\n",
    "    \"\"\"Plot activity is some 2D space.\n",
    "\n",
    "        Args:\n",
    "            X: Fixed points in #Fps x Neurons\n",
    "            D: Neurons x 2 plotting dims\n",
    "    \n",
    "        \"\"\"\n",
    "    S = np.shape(X)[0]\n",
    "    lf = .10\n",
    "    rf = .10\n",
    "    \n",
    "    for s in range(S):\n",
    "        c = 'k'\n",
    "        \n",
    "        X_trial = np.dot(X[s,:],D.T)\n",
    "        \n",
    "        n_arg = np.argwhere(eig_decomps[s]['evals']>1)+1\n",
    "        if len(n_arg)>0:\n",
    "            for arg in range(np.max(n_arg)):\n",
    "                rdots = np.dot(np.real(eig_decomps[s]['R'][:, arg]).T,D.T)\n",
    "                ldots = np.dot(np.real(eig_decomps[s]['L'][:, arg]).T,D.T)\n",
    "                overlap = np.dot(rdots,ldots.T)\n",
    "                r = np.concatenate((X_trial - rf*overlap*rdots, X_trial + rf*overlap*rdots),0)\n",
    "                plt.plot(r[0:4:2],r[1:4:2],'k',alpha = .5,linewidth = .5)\n",
    "        \n",
    "        n_arg = np.argwhere(eig_decomps[s]['evals']<.3)\n",
    "        if len(n_arg)>0:\n",
    "            for arg in range(np.min(n_arg),len(eig_decomps[s]['evals'])):\n",
    "                rdots = np.dot(np.real(eig_decomps[s]['R'][:, arg]).T,D.T)\n",
    "                ldots = np.dot(np.real(eig_decomps[s]['L'][:, arg]).T,D.T)\n",
    "                overlap = np.dot(rdots,ldots.T)\n",
    "                r = np.concatenate((X_trial - rf*overlap*rdots, X_trial + rf*overlap*rdots),0)\n",
    "                plt.plot(r[0:4:2],r[1:4:2],'b',alpha = .5,linewidth = .5)\n",
    "            \n",
    "        plt.plot(X_trial[0],X_trial[1],'o',c = cr, markersize = 2)\n",
    "        plt.plot(X_trial[0],X_trial[1],'.',c = 'k', markersize = 2)\n",
    "\n",
    "def make_axes(model_dir_all,ckpt_n_dir,rule_master,epoch):\n",
    "\n",
    "    model = Model(model_dir_all)\n",
    "    with tf.Session() as sess:\n",
    "\n",
    "        model.saver.restore(sess,ckpt_n_dir)\n",
    "        # get all connection weights and biases as tensorflow variables\n",
    "        var_list = model.var_list\n",
    "        # evaluate the parameters after training\n",
    "        params = [sess.run(var) for var in var_list]\n",
    "        # get hparams\n",
    "        hparams = model.hp\n",
    "        trial_master = generate_trials(rule_master, hparams, mode = 'test', batch_size = 400, noise_on=False, delay_fac =1)\n",
    "        feed_dict = tools.gen_feed_dict(model, trial_master, hparams)\n",
    "        h_tf = sess.run(model.h, feed_dict=feed_dict) #(n_time, n_trials, n_neuron)\n",
    "\n",
    "    Beta_epoch = generate_Beta_epoch(h_tf,trial_master)\n",
    "    X_pca = Beta_epoch[epoch]    \n",
    "    D = np.concatenate((np.expand_dims(X_pca[:,0],axis=1),np.expand_dims(X_pca[:,1],axis=1)),axis = 1)\n",
    "    return D"
   ]
  },
  {
   "cell_type": "code",
   "execution_count": 4,
   "metadata": {},
   "outputs": [],
   "source": [
    "def plot_fp_struct_multicolor(m,ckpt_n_dir,tasks,trial_set,r,D,fp_epoch,axes_epoch,do_plot_FP,t_num = 0,qlim = .000001,color_label = 'stim1'):\n",
    "    cmap=plt.get_cmap('rainbow')\n",
    "    plt.rcParams.update({'font.size': 18})\n",
    "\n",
    "    ## plot w test set of trials\n",
    "    model = Model(m)\n",
    "    with tf.Session() as sess:\n",
    "        model.saver.restore(sess,ckpt_n_dir)\n",
    "        hparams = model.hp\n",
    "\n",
    "        for rule_ind in tasks:\n",
    "            rule = rules_dict['all'][rule_ind]\n",
    "            trial = generate_trials(rule, hparams, mode='test', batch_size = np.max(trial_set), noise_on=True, delay_fac =1)\n",
    "            feed_dict = tools.gen_feed_dict(model, trial, hparams)\n",
    "            h_tf, _ = sess.run([model.h, model.y_hat], feed_dict=feed_dict) #(n_time, n_condition, n_neuron)\n",
    "\n",
    "            T_inds = get_T_inds(trial,fp_epoch) # grab epoch time indexing\n",
    "\n",
    "            fldr = os.path.join(m,'golub_fixed_pts',rule,'random_trials',fp_epoch+'*')\n",
    "            f_list = [f for f in glob.glob(fldr)]\n",
    "\n",
    "            T,S,N = np.shape(h_tf)\n",
    "            \n",
    "            stim1_locs = np.min(trial.stim_locs[:,[0,2]],axis=1)\n",
    "            stim2_locs = np.min(trial.stim_locs[:,[1,3]],axis=1)\n",
    "            y_loc = trial.y_loc[-1,:]\n",
    "            \n",
    "            if color_label == 'stim1' or color_label == 'delay1':\n",
    "                c_inds = stim1_locs\n",
    "            elif color_label == 'stim2' or color_label == 'delay2':\n",
    "                c_inds = stim2_locs\n",
    "            else:\n",
    "                c_inds = y_loc\n",
    "            \n",
    "            if do_plot_FP==0:\n",
    "                for s in range(0,S,int(S/100)):\n",
    "                    c = cmap(c_inds[s]/(2*np.pi))\n",
    "                    X_trial = np.dot(h_tf[T_inds,s,:],D)\n",
    "                    plt.plot(X_trial[0,0],X_trial[0,1],'^',c = c, linewidth = 1)\n",
    "                    plt.plot(X_trial[:,0],X_trial[:,1],'-',c = c, linewidth = 1)\n",
    "                    \n",
    "                    if s==0:\n",
    "                        plt.plot(X_trial[-1,0],X_trial[-1,1],'o',c = c, linewidth = .3,label = rule)\n",
    "                    else:\n",
    "                        plt.plot(X_trial[-1,0],X_trial[-1,1],'o',c = c, linewidth = .3)\n",
    "                    \n",
    "            elif do_plot_FP==1:\n",
    "                \n",
    "                c = 'gray'\n",
    "                for s in range(0,S,int(S/20)):\n",
    "                    X_trial = np.dot(h_tf[T_inds,s,:],D)\n",
    "                    plt.plot(X_trial[0,0],X_trial[0,1],'^',c = c, linewidth = 1)\n",
    "                    plt.plot(X_trial[:,0],X_trial[:,1],'-',c = c, linewidth = 1)\n",
    "                    plt.plot(X_trial[-1,0],X_trial[-1,1],'o',c = c, linewidth = .3)\n",
    "                        \n",
    "                s = t_num\n",
    "                filename = os.path.join(m,'golub_fixed_pts',rule,'random_trials',fp_epoch+'_'+str(t_num)+'.npz')\n",
    "\n",
    "                if os.path.exists(filename):\n",
    "                    print(filename)\n",
    "                else:\n",
    "                    filename = os.path.join(m,'golub_fixed_pts',rule,'random_trials',fp_epoch+'_'+str(0)+'.npz')\n",
    "                    \n",
    "                fp_struct = np.load(filename)\n",
    "                c = cmap(c_inds[s]/(2*np.pi))\n",
    "\n",
    "                X_trial = np.dot(h_tf[T_inds,s,:],D)\n",
    "                plt.plot(X_trial[0,0],X_trial[0,1],'^',c = c, linewidth = 2)\n",
    "                plt.plot(X_trial[:,0],X_trial[:,1],'-',c = c, linewidth = 2)\n",
    "                plt.plot(X_trial[-1,0],X_trial[-1,1],'o',c = c, linewidth = .5,label = rule)\n",
    "\n",
    "                fp_logic = fp_struct['qstar']< qlim\n",
    "                eig_decomps = comp_eig_decomp(fp_struct['J_xstar'][fp_logic,:,:])\n",
    "                sorted_fps = fp_struct['xstar'][fp_logic,:]\n",
    "                plot_FP(sorted_fps, D.T, eig_decomps, c)\n",
    "                \n",
    "            elif do_plot_FP==2:\n",
    "                \n",
    "                for s in range(0,S,int(S/20)):\n",
    "                    filename = f_list[s]\n",
    "\n",
    "                    if os.path.exists(filename):\n",
    "                        print(filename)\n",
    "                        fp_struct = np.load(filename)\n",
    "                        c = cmap(c_inds[s]/(2*np.pi))\n",
    "                        if fp_struct['trial_num']%4==0:\n",
    "\n",
    "                            X_trial = np.dot(h_tf[T_inds,fp_struct['trial_num'],:],D)\n",
    "                            plt.plot(X_trial[0,0],X_trial[0,1],'^',c = c, linewidth = 1)\n",
    "                            plt.plot(X_trial[:,0],X_trial[:,1],'-',c = c, linewidth = 1)\n",
    "                            if s==0:\n",
    "                                plt.plot(X_trial[-1,0],X_trial[-1,1],'o',c = c, linewidth = .3,label = rule)\n",
    "                            else:\n",
    "                                plt.plot(X_trial[-1,0],X_trial[-1,1],'o',c = c, linewidth = .3)\n",
    "\n",
    "                            fp_logic = fp_struct['qstar']< qlim\n",
    "                            eig_decomps = comp_eig_decomp(fp_struct['J_xstar'][fp_logic,:,:])\n",
    "                            sorted_fps = fp_struct['xstar'][fp_logic,:]\n",
    "                            plot_FP(sorted_fps, D.T, eig_decomps, c)\n",
    "\n",
    "            plt.xlabel(r + ' Beta_' + axes_epoch + ' cos@')\n",
    "            plt.ylabel(r + ' Beta_' + axes_epoch + ' sin@') \n",
    "            plt.title(rule + ' ' + fp_epoch+' activity')\n",
    "            \n",
    "def plot_in_time(rule,trial,h_tf,axes_epoch,color_label,trial_subset,D):\n",
    "    cmap=plt.get_cmap('rainbow')\n",
    "    plt.rcParams.update({'font.size': 18})\n",
    "\n",
    "    stim1_locs = np.min(trial.stim_locs[:,[0,2]],axis=1)\n",
    "    stim2_locs = np.min(trial.stim_locs[:,[1,3]],axis=1)\n",
    "    stim1_strength = np.min(trial.stim_strength[:,[0,2]],axis=1)\n",
    "    stim2_strength = np.min(trial.stim_strength[:,[1,3]],axis=1)\n",
    "    y_loc = trial.y_loc[-1,:]\n",
    "\n",
    "    if color_label == 'stim1' or color_label == 'delay1':\n",
    "        c_inds = stim1_locs\n",
    "    elif color_label == 'stim2' or color_label == 'delay2':\n",
    "        c_inds = stim2_locs\n",
    "    elif color_label == 'stim1_strength':\n",
    "        c_inds = stim1_strength\n",
    "    elif color_label == 'stim2_strength':\n",
    "        c_inds = stim2_strength\n",
    "    else:\n",
    "        c_inds = y_loc\n",
    "\n",
    "    fig = plt.figure(figsize=(10,10),tight_layout=True,facecolor='white')\n",
    "\n",
    "    for s in up:\n",
    "        c = cmap(c_inds[s]/(np.max(c_inds)))\n",
    "        X_trial = np.dot(h_tf[:,s,:],D)\n",
    "        plt.subplot(2,1,1)\n",
    "        plt.plot(X_trial[:,0],'-',c = c, linewidth = 2)\n",
    "        plt.subplot(2,1,2)\n",
    "        plt.plot(X_trial[:,1],'-',c = c, linewidth = 2)\n",
    "\n",
    "    plt.subplot(2,1,1)\n",
    "    for e in trial.epochs.keys():\n",
    "        plt.text(np.max([trial.epochs[e][0],0])+1,-.3,e,)\n",
    "        if trial.epochs[e][1]>0:\n",
    "            plt.plot([trial.epochs[e][1],trial.epochs[e][1]],[-.4,.4],'k',linewidth = .2)\n",
    "    plt.title(rule + ' color label : ' + color_label)\n",
    "    plt.xlabel('time in trial')\n",
    "    plt.ylabel(axes_epoch + ' cosine angle')\n",
    "\n",
    "    plt.subplot(2,1,2)\n",
    "    for e in trial.epochs.keys():\n",
    "        plt.text(np.max([trial.epochs[e][0],0])+1,-.3,e)\n",
    "        if trial.epochs[e][1]>0:\n",
    "            plt.plot([trial.epochs[e][1],trial.epochs[e][1]],[-.4,.4],'-k',linewidth = .2)\n",
    "\n",
    "    plt.title(rule + ' color label : ' + color_label)\n",
    "    plt.xlabel('time in trial')\n",
    "    plt.ylabel(axes_epoch + ' sine angle')"
   ]
  },
  {
   "cell_type": "code",
   "execution_count": 5,
   "metadata": {},
   "outputs": [],
   "source": [
    "def calc_dim(X, nD = 10, N = 256):\n",
    "\n",
    "    shapes = np.shape(X)\n",
    "    \n",
    "    if len(shapes) == 3:\n",
    "        X = np.reshape(np.transpose(X,(2,0,1)),(N,-1)).T\n",
    "        \n",
    "    if shapes[1] != N:\n",
    "        X = X.T\n",
    "        \n",
    "    pca = PCA(n_components = nD)\n",
    "    X_pca = pca.fit_transform(X)\n",
    "    exp_var = np.var(X_pca,axis = 0)\n",
    "    \n",
    "    return exp_var"
   ]
  },
  {
   "cell_type": "code",
   "execution_count": 6,
   "metadata": {},
   "outputs": [],
   "source": [
    "print(fp_epoch)\n",
    "nD = 10\n",
    "T_inds = get_T_inds(trial,fp_epoch)\n",
    "\n",
    "X = h_tf[T_inds[-1],:,:]\n",
    "X_long = np.reshape(np.transpose(h_tf[T_inds,:,:],(2,0,1)),(N,-1)).T\n",
    "\n",
    "pca = PCA(n_components = nD)\n",
    "X_pca = pca.fit_transform(X)\n",
    "X_pca_var = np.var(X_pca,axis = 0)\n",
    "total_var = np.sum(X_pca_var)\n",
    "\n",
    "pca = PCA(n_components = nD)\n",
    "X_long_pca = pca.fit_transform(X_long.T)\n",
    "X_long_pca_var = np.var(X_long_pca,axis = 0)\n",
    "long_total_var = np.sum(X_long_pca_var)\n",
    "\n",
    "plt.plot(np.cumsum(X_pca_var/total_var),'.-')\n",
    "plt.plot(np.cumsum(X_long_pca_var/long_total_var),'.-')\n",
    "plt.plot(np.cumsum(pca.explained_variance_/np.sum()),'.-')\n",
    "# plt.ylim(0,1)\n",
    "plt.show()"
   ]
  },
  {
   "cell_type": "code",
   "execution_count": 7,
   "metadata": {},
   "outputs": [],
   "source": [
    "\n"
   ]
  },
  {
   "cell_type": "code",
   "execution_count": 186,
   "metadata": {},
   "outputs": [],
   "source": [
    "nD = 20\n",
    "X = h_tf[T_inds[-1],:,:]\n",
    "exp_var = calc_dim(X,nD = nD)\n",
    "total_var = np.sum(exp_var)\n",
    "\n",
    "X_long = h_tf[T_inds,:,:]\n",
    "exp_var_long = calc_dim(X_long,nD = nD)\n",
    "total_var_long = np.sum(exp_var_long)\n",
    "\n",
    "XD = np.dot(h_tf[T_inds,:,:],D)\n",
    "exp_var_D = calc_dim(XD,nD = np.shape(D)[1],N = np.shape(D)[1])\n",
    "total_var_D = np.sum(exp_var_D)\n",
    "\n",
    "plt.plot(np.cumsum(exp_var/np.sum(total_var)),'.-')\n",
    "plt.plot(np.cumsum(exp_var_long/np.sum(total_var_long)),'.-')\n",
    "plt.plot(np.cumsum(exp_var_D/np.sum(total_var_D)),'.-')\n",
    "plt.ylim(0,1.1)\n",
    "plt.show()"
   ]
  },
  {
   "cell_type": "code",
   "execution_count": 187,
   "metadata": {},
   "outputs": [],
   "source": [
    "def plot_fp_struct_eigenspec(rule,fp_epoch,t_num=0,do_nfp=1):\n",
    "    \n",
    "    T,S,N = np.shape(h_tf)\n",
    "    filename = os.path.join(model_dir_all,'golub_fixed_pts',rule,fp_epoch+'_'+str(t_num)+'.npz')\n",
    "\n",
    "    if os.path.exists(filename):\n",
    "        fp_struct = np.load(filename)\n",
    "        fp_logic = fp_struct['qstar']<.0000001\n",
    "        eig_decomps = comp_eig_decomp(fp_struct['J_xstar'][fp_logic,:,:])\n",
    "        \n",
    "        plt.subplot()\n",
    "        \n",
    "        if do_nfp == 0:\n",
    "            plt.plot(eig_decomps[nfp]['evals'].real,eig_decomps[nfp]['evals'].imag,'.k')\n",
    "            plt.title('max eigenval : ' +str(np.max(eig_decomps[nfp]['evals'].real)))\n",
    "        else:\n",
    "            for nfp in range(len(eig_decomps)):\n",
    "                plt.plot(eig_decomps[nfp]['evals'].real,eig_decomps[nfp]['evals'].imag,alpha = .1)\n",
    "                plt.title('max eigenval : ' +str(np.max(eig_decomps[nfp]['evals'].real)),alpha = .1)"
   ]
  },
  {
   "cell_type": "code",
   "execution_count": 188,
   "metadata": {},
   "outputs": [],
   "source": [
    "net = 'stepnet'\n",
    "tasks = [5]\n",
    "rule = rules_dict['all'][tasks[0]]\n",
    "fp_epoch = 'stim1'\n",
    "model_n = 0\n",
    "dir_specific_all = 'crystals/softplus/l2h00001'#'crystals/softplus/l2h00001'#'stepnet/crystals/softplus/'#grad_norm_both/'#'lowD/combos'#'stepnet/lowD/tanh'#'lowD/grad_norm_l2001' #' #'lowD/armnet_noreg'#lowD/combos' ##grad_norm_l2h000001' /Documents/data/rnn/multitask/varGo/lowD/most/\n",
    "model_dir_all = os.path.join(p,'data/rnn/multitask/',dir_specific_all,str(model_n))\n",
    "ckpt_n = name_best_ckpt(model_dir_all,rule)\n",
    "ckpt_n_dir = os.path.join(model_dir_all,'ckpts/model.ckpt-' + str(int(ckpt_n)))\n",
    "\n",
    "task_list = ['fdgo', 'reactgo', 'delaygo', 'fdanti', 'reactanti', 'delayanti',\n",
    "              'delaydm1', 'delaydm2', 'contextdelaydm1', 'contextdelaydm2', 'multidelaydm',\n",
    "              'dmsgo', 'dmsnogo', 'dmcgo', 'dmcnogo']"
   ]
  },
  {
   "cell_type": "code",
   "execution_count": 189,
   "metadata": {
    "scrolled": true
   },
   "outputs": [],
   "source": [
    "## plot w test set of trials\n",
    "model = Model(model_dir_all)\n",
    "with tf.Session() as sess:\n",
    "    model.saver.restore(sess,ckpt_n_dir)\n",
    "    hparams = model.hp\n",
    "    trial = generate_trials(rule, hparams, mode='random', batch_size = 100, noise_on=True, delay_fac =1)\n",
    "    feed_dict = tools.gen_feed_dict(model, trial, hparams)\n",
    "    h_tf, _ = sess.run([model.h, model.y_hat], feed_dict=feed_dict) #(n_time, n_condition, n_neuron)\n",
    "\n",
    "T,S,N = np.shape(h_tf)\n",
    "trial_set = range(0,S,10)\n",
    "epoch_set = trial.epochs.keys()\n",
    "print(trial.epochs.keys())"
   ]
  },
  {
   "cell_type": "code",
   "execution_count": 190,
   "metadata": {},
   "outputs": [],
   "source": [
    "epoch_order = [3,1,0,2]\n",
    "axes_epoch = 'fix1'\n",
    "\n",
    "fig = plt.figure(figsize=(len(epoch_set)*5,5),tight_layout=True,facecolor='white')\n",
    "\n",
    "for fp_epoch_ind in range(len(epoch_set)):\n",
    "    fp_epoch = epoch_set[epoch_order[fp_epoch_ind]]\n",
    "    D_stim = make_axes(model_dir_all,ckpt_n_dir,rule,axes_epoch)\n",
    "    plt.subplot(1,len(epoch_set),fp_epoch_ind+1)\n",
    "    plot_fp_struct_multicolor(model_dir_all,ckpt_n_dir,tasks,trial_set,rule,D_stim,fp_epoch,axes_epoch,do_plot_FP=0)\n",
    "#     plt.ylim((-.25,.25))\n",
    "#     plt.xlim((-.25,.25))\n",
    "    \n",
    "figpath = os.path.join(model_dir_all,'tf_fixed_pt_figs',rule)\n",
    "figname = rule+'_'+axes_epoch+'_axes_Activity_all_trials.pdf'\n",
    "if not os.path.exists(figpath):\n",
    "    os.makedirs(figpath)\n",
    "plt.savefig(os.path.join(figpath,figname))\n",
    "plt.show()"
   ]
  },
  {
   "cell_type": "code",
   "execution_count": 191,
   "metadata": {
    "scrolled": true
   },
   "outputs": [],
   "source": [
    "epoch_order = [3,1,0,2]\n",
    "axes_epoch = 'stim1'\n",
    "\n",
    "fig = plt.figure(figsize=(len(epoch_set)*5,5),tight_layout=True,facecolor='white')\n",
    "\n",
    "for fp_epoch_ind in range(len(epoch_set)):\n",
    "    fp_epoch = epoch_set[epoch_order[fp_epoch_ind]]\n",
    "    D_stim = make_axes(model_dir_all,ckpt_n_dir,rule,axes_epoch)\n",
    "    plt.subplot(1,len(epoch_set),fp_epoch_ind+1)\n",
    "    plot_fp_struct_multicolor(model_dir_all,ckpt_n_dir,tasks,trial_set,rule,D_stim,fp_epoch,axes_epoch,do_plot_FP=0)\n",
    "    plt.ylim((-.25,.25))\n",
    "    plt.xlim((-.25,.25))\n",
    "    \n",
    "figpath = os.path.join(model_dir_all,'tf_fixed_pt_figs',rule)\n",
    "figname = rule+'_'+axes_epoch+'_axes_Activity_all_trials.pdf'\n",
    "if not os.path.exists(figpath):\n",
    "    os.makedirs(figpath)\n",
    "plt.savefig(os.path.join(figpath,figname))\n",
    "plt.show()"
   ]
  },
  {
   "cell_type": "code",
   "execution_count": 192,
   "metadata": {},
   "outputs": [],
   "source": [
    "epoch_order = [3,1,0,2]\n",
    "axes_epoch = 'delay1'\n",
    "\n",
    "fig = plt.figure(figsize=(len(epoch_set)*5,5),tight_layout=True,facecolor='white')\n",
    "\n",
    "for fp_epoch_ind in range(len(epoch_set)):\n",
    "    fp_epoch = epoch_set[epoch_order[fp_epoch_ind]]\n",
    "    D_stim = make_axes(model_dir_all,ckpt_n_dir,rule,axes_epoch)\n",
    "    plt.subplot(1,len(epoch_set),fp_epoch_ind+1)\n",
    "    plot_fp_struct_multicolor(model_dir_all,ckpt_n_dir,tasks,trial_set,rule,D_stim,fp_epoch,axes_epoch,do_plot_FP=0)\n",
    "    plt.ylim((-.25,.25))\n",
    "    plt.xlim((-.25,.25))\n",
    "    \n",
    "figpath = os.path.join(model_dir_all,'tf_fixed_pt_figs',rule)\n",
    "figname = rule+'_'+axes_epoch+'_axes_Activity_all_trials.pdf'\n",
    "if not os.path.exists(figpath):\n",
    "    os.makedirs(figpath)\n",
    "plt.savefig(os.path.join(figpath,figname))\n",
    "plt.show()"
   ]
  },
  {
   "cell_type": "code",
   "execution_count": 193,
   "metadata": {
    "scrolled": true
   },
   "outputs": [],
   "source": [
    "axes_epoch = 'go1'\n",
    "\n",
    "fig = plt.figure(figsize=(len(epoch_set)*5,5),tight_layout=True,facecolor='white')\n",
    "\n",
    "for fp_epoch_ind in range(len(epoch_set)):\n",
    "    fp_epoch = epoch_set[epoch_order[fp_epoch_ind]]\n",
    "    D_go = make_axes(model_dir_all,ckpt_n_dir,rule,axes_epoch)\n",
    "    plt.subplot(1,len(epoch_set),fp_epoch_ind+1)\n",
    "    plot_fp_struct_multicolor(model_dir_all,ckpt_n_dir,tasks,trial_set,rule,D_go,fp_epoch,axes_epoch,do_plot_FP=0)\n",
    "    plt.ylim((-.25,.25))\n",
    "    plt.xlim((-.25,.25))\n",
    "    \n",
    "figpath = os.path.join(model_dir_all,'tf_fixed_pt_figs',rule)\n",
    "figname = rule+'_'+axes_epoch+'_axes_Activity_all_trials.pdf'\n",
    "if not os.path.exists(figpath):\n",
    "    os.makedirs(figpath)\n",
    "plt.savefig(os.path.join(figpath,figname))\n",
    "plt.show()"
   ]
  },
  {
   "cell_type": "code",
   "execution_count": 194,
   "metadata": {},
   "outputs": [],
   "source": [
    "epoch_set"
   ]
  },
  {
   "cell_type": "code",
   "execution_count": 195,
   "metadata": {
    "scrolled": false
   },
   "outputs": [],
   "source": [
    "axes_epoch = 'delay1'\n",
    "fig = plt.figure(figsize=(len(epoch_set)*5,5),tight_layout=True,facecolor='white')\n",
    "t_num = 0\n",
    "qlim = .000001\n",
    "\n",
    "epoch_order = [3, 1, 0, 2]\n",
    "\n",
    "for fp_epoch_ind in range(len(epoch_order)):\n",
    "    fp_epoch = epoch_set[epoch_order[fp_epoch_ind]]\n",
    "    D = make_axes(model_dir_all,ckpt_n_dir,rule,axes_epoch)\n",
    "    plt.subplot(1,len(epoch_set),fp_epoch_ind+1)\n",
    "    plot_fp_struct_multicolor(model_dir_all,ckpt_n_dir,tasks,trial_set,rule,D,fp_epoch,axes_epoch,do_plot_FP=1,t_num = t_num,qlim = qlim)\n",
    "    plt.ylim((-.25,.25))\n",
    "    plt.xlim((-.25,.25))\n",
    "    \n",
    "figpath = os.path.join(model_dir_all,'tf_fixed_pt_figs',rule)\n",
    "figname = rule+'_'+axes_epoch+'_axes_Fp_one_trial_'+str(t_num)+'.pdf'\n",
    "if not os.path.exists(figpath):\n",
    "    os.makedirs(figpath)\n",
    "plt.savefig(os.path.join(figpath,figname))\n",
    "plt.show()"
   ]
  },
  {
   "cell_type": "code",
   "execution_count": 196,
   "metadata": {},
   "outputs": [],
   "source": [
    "axes_epoch = 'fix1'\n",
    "fig = plt.figure(figsize=(len(epoch_set)*5,5),tight_layout=True,facecolor='white')\n",
    "t_num = 0\n",
    "qlim = .000001\n",
    "\n",
    "epoch_order = [3, 1, 0, 2]\n",
    "\n",
    "for fp_epoch_ind in range(len(epoch_order)):\n",
    "    fp_epoch = epoch_set[epoch_order[fp_epoch_ind]]\n",
    "    D = make_axes(model_dir_all,ckpt_n_dir,rule,axes_epoch)\n",
    "    plt.subplot(1,len(epoch_set),fp_epoch_ind+1)\n",
    "    plot_fp_struct_multicolor(model_dir_all,ckpt_n_dir,tasks,trial_set,rule,D,fp_epoch,axes_epoch,do_plot_FP=1,t_num = t_num,qlim = qlim)\n",
    "#     plt.ylim((-.25,.25))\n",
    "#     plt.xlim((-.25,.25))\n",
    "    \n",
    "figpath = os.path.join(model_dir_all,'tf_fixed_pt_figs',rule)\n",
    "figname = rule+'_'+axes_epoch+'_axes_Fp_one_trial_'+str(t_num)+'.pdf'\n",
    "if not os.path.exists(figpath):\n",
    "    os.makedirs(figpath)\n",
    "plt.savefig(os.path.join(figpath,figname))\n",
    "plt.show()"
   ]
  },
  {
   "cell_type": "code",
   "execution_count": 197,
   "metadata": {},
   "outputs": [],
   "source": [
    "from tools_lnd import get_model_params\n",
    "w_in, b_in, w_out, b_out = get_model_params(model_dir_all,ckpt_n_dir)"
   ]
  },
  {
   "cell_type": "code",
   "execution_count": 198,
   "metadata": {
    "scrolled": true
   },
   "outputs": [],
   "source": [
    "T,S,N = np.shape(h_tf)\n",
    "trial_set = range(0,S,10)\n",
    "D = np.concatenate((D_stim[:,1:2],w_out[:,2:3]),axis = 1)\n",
    "axes_epoch = 'go1'\n",
    "\n",
    "fig = plt.figure(figsize=(len(epoch_set)*5,5),tight_layout=True,facecolor='white')\n",
    "\n",
    "for fp_epoch_ind in range(len(epoch_set)):\n",
    "    fp_epoch = epoch_set[epoch_order[fp_epoch_ind]]\n",
    "    plt.subplot(1,len(epoch_set),fp_epoch_ind+1)\n",
    "    plot_fp_struct_multicolor(model_dir_all,ckpt_n_dir,tasks,trial_set,rule,D,fp_epoch,axes_epoch,do_plot_FP=0,t_num = t_num,qlim = .000001)\n",
    "    plt.ylabel('cosine output')\n",
    "    plt.ylim((-1.25,1.25))\n",
    "    plt.xlim((-.25,.25))\n",
    "    \n",
    "figpath = os.path.join(model_dir_all,'tf_fixed_pt_figs',rule)\n",
    "figname = rule+'_'+'ouput axes'+'_axes_Activity_all_trials.pdf'\n",
    "if not os.path.exists(figpath):\n",
    "    os.makedirs(figpath)\n",
    "plt.savefig(os.path.join(figpath,figname))\n",
    "plt.show()"
   ]
  },
  {
   "cell_type": "code",
   "execution_count": 199,
   "metadata": {},
   "outputs": [],
   "source": [
    "T,S,N = np.shape(h_tf)\n",
    "trial_set = range(0,S,10)\n",
    "D = np.concatenate((D_stim[:,1:2],w_out[:,2:3]),axis = 1)\n",
    "axes_epoch = 'go1'\n",
    "\n",
    "fig = plt.figure(figsize=(len(epoch_set)*5,5),tight_layout=True,facecolor='white')\n",
    "\n",
    "for fp_epoch_ind in range(len(epoch_set)):\n",
    "    fp_epoch = epoch_set[epoch_order[fp_epoch_ind]]\n",
    "    plt.subplot(1,len(epoch_set),fp_epoch_ind+1)\n",
    "    plot_fp_struct_multicolor(model_dir_all,ckpt_n_dir,tasks,trial_set,rule,D,fp_epoch,axes_epoch,do_plot_FP=1,t_num = t_num,qlim = .000001)\n",
    "    plt.ylabel('cosine output')\n",
    "    plt.ylim((-1.25,1.25))\n",
    "    plt.xlim((-.25,.25))\n",
    "    \n",
    "figpath = os.path.join(model_dir_all,'tf_fixed_pt_figs',rule)\n",
    "figname = rule+'_'+'ouput axes'+'_axes_Fp_one_trial_'+str(t_num)+'.pdf'\n",
    "if not os.path.exists(figpath):\n",
    "    os.makedirs(figpath)\n",
    "plt.savefig(os.path.join(figpath,figname))\n",
    "plt.show()"
   ]
  },
  {
   "cell_type": "code",
   "execution_count": null,
   "metadata": {},
   "outputs": [],
   "source": []
  },
  {
   "cell_type": "code",
   "execution_count": null,
   "metadata": {},
   "outputs": [],
   "source": []
  },
  {
   "cell_type": "code",
   "execution_count": null,
   "metadata": {},
   "outputs": [],
   "source": []
  },
  {
   "cell_type": "code",
   "execution_count": null,
   "metadata": {
    "scrolled": false
   },
   "outputs": [],
   "source": []
  },
  {
   "cell_type": "code",
   "execution_count": null,
   "metadata": {},
   "outputs": [],
   "source": []
  },
  {
   "cell_type": "code",
   "execution_count": null,
   "metadata": {},
   "outputs": [],
   "source": []
  },
  {
   "cell_type": "code",
   "execution_count": null,
   "metadata": {},
   "outputs": [],
   "source": []
  },
  {
   "cell_type": "code",
   "execution_count": null,
   "metadata": {},
   "outputs": [],
   "source": []
  },
  {
   "cell_type": "code",
   "execution_count": null,
   "metadata": {},
   "outputs": [],
   "source": []
  },
  {
   "cell_type": "code",
   "execution_count": null,
   "metadata": {
    "scrolled": false
   },
   "outputs": [],
   "source": []
  },
  {
   "cell_type": "code",
   "execution_count": null,
   "metadata": {},
   "outputs": [],
   "source": []
  },
  {
   "cell_type": "code",
   "execution_count": null,
   "metadata": {},
   "outputs": [],
   "source": []
  },
  {
   "cell_type": "code",
   "execution_count": null,
   "metadata": {},
   "outputs": [],
   "source": []
  },
  {
   "cell_type": "code",
   "execution_count": null,
   "metadata": {
    "scrolled": true
   },
   "outputs": [],
   "source": []
  },
  {
   "cell_type": "code",
   "execution_count": null,
   "metadata": {},
   "outputs": [],
   "source": []
  },
  {
   "cell_type": "code",
   "execution_count": null,
   "metadata": {
    "scrolled": true
   },
   "outputs": [],
   "source": []
  },
  {
   "cell_type": "code",
   "execution_count": null,
   "metadata": {
    "scrolled": false
   },
   "outputs": [],
   "source": []
  },
  {
   "cell_type": "code",
   "execution_count": null,
   "metadata": {},
   "outputs": [],
   "source": []
  },
  {
   "cell_type": "code",
   "execution_count": null,
   "metadata": {},
   "outputs": [],
   "source": []
  },
  {
   "cell_type": "code",
   "execution_count": null,
   "metadata": {
    "scrolled": false
   },
   "outputs": [],
   "source": []
  },
  {
   "cell_type": "code",
   "execution_count": 179,
   "metadata": {
    "scrolled": false
   },
   "outputs": [],
   "source": []
  },
  {
   "cell_type": "code",
   "execution_count": null,
   "metadata": {},
   "outputs": [],
   "source": []
  },
  {
   "cell_type": "code",
   "execution_count": null,
   "metadata": {},
   "outputs": [],
   "source": []
  },
  {
   "cell_type": "code",
   "execution_count": null,
   "metadata": {},
   "outputs": [],
   "source": []
  },
  {
   "cell_type": "code",
   "execution_count": null,
   "metadata": {},
   "outputs": [],
   "source": []
  },
  {
   "cell_type": "code",
   "execution_count": null,
   "metadata": {
    "scrolled": false
   },
   "outputs": [],
   "source": []
  },
  {
   "cell_type": "code",
   "execution_count": null,
   "metadata": {
    "scrolled": false
   },
   "outputs": [],
   "source": []
  },
  {
   "cell_type": "code",
   "execution_count": null,
   "metadata": {},
   "outputs": [],
   "source": []
  },
  {
   "cell_type": "code",
   "execution_count": null,
   "metadata": {},
   "outputs": [],
   "source": []
  },
  {
   "cell_type": "code",
   "execution_count": null,
   "metadata": {
    "scrolled": false
   },
   "outputs": [],
   "source": []
  },
  {
   "cell_type": "code",
   "execution_count": null,
   "metadata": {
    "scrolled": false
   },
   "outputs": [],
   "source": []
  },
  {
   "cell_type": "code",
   "execution_count": null,
   "metadata": {
    "scrolled": false
   },
   "outputs": [],
   "source": []
  },
  {
   "cell_type": "code",
   "execution_count": null,
   "metadata": {
    "scrolled": false
   },
   "outputs": [],
   "source": []
  },
  {
   "cell_type": "code",
   "execution_count": 53,
   "metadata": {},
   "outputs": [],
   "source": []
  },
  {
   "cell_type": "code",
   "execution_count": 54,
   "metadata": {},
   "outputs": [],
   "source": []
  },
  {
   "cell_type": "code",
   "execution_count": null,
   "metadata": {},
   "outputs": [],
   "source": []
  },
  {
   "cell_type": "code",
   "execution_count": null,
   "metadata": {},
   "outputs": [],
   "source": []
  },
  {
   "cell_type": "code",
   "execution_count": null,
   "metadata": {},
   "outputs": [],
   "source": []
  },
  {
   "cell_type": "code",
   "execution_count": null,
   "metadata": {},
   "outputs": [],
   "source": []
  },
  {
   "cell_type": "code",
   "execution_count": null,
   "metadata": {},
   "outputs": [],
   "source": []
  },
  {
   "cell_type": "code",
   "execution_count": null,
   "metadata": {},
   "outputs": [],
   "source": []
  },
  {
   "cell_type": "code",
   "execution_count": null,
   "metadata": {},
   "outputs": [],
   "source": []
  },
  {
   "cell_type": "code",
   "execution_count": null,
   "metadata": {},
   "outputs": [],
   "source": []
  },
  {
   "cell_type": "code",
   "execution_count": null,
   "metadata": {
    "scrolled": false
   },
   "outputs": [],
   "source": []
  },
  {
   "cell_type": "code",
   "execution_count": null,
   "metadata": {},
   "outputs": [],
   "source": []
  },
  {
   "cell_type": "code",
   "execution_count": null,
   "metadata": {
    "scrolled": false
   },
   "outputs": [],
   "source": []
  },
  {
   "cell_type": "code",
   "execution_count": null,
   "metadata": {},
   "outputs": [],
   "source": []
  },
  {
   "cell_type": "code",
   "execution_count": null,
   "metadata": {},
   "outputs": [],
   "source": []
  },
  {
   "cell_type": "code",
   "execution_count": null,
   "metadata": {},
   "outputs": [],
   "source": []
  },
  {
   "cell_type": "code",
   "execution_count": null,
   "metadata": {},
   "outputs": [],
   "source": []
  }
 ],
 "metadata": {
  "kernelspec": {
   "display_name": "Python 2",
   "language": "python",
   "name": "python2"
  },
  "language_info": {
   "codemirror_mode": {
    "name": "ipython",
    "version": 2
   },
   "file_extension": ".py",
   "mimetype": "text/x-python",
   "name": "python",
   "nbconvert_exporter": "python",
   "pygments_lexer": "ipython2",
   "version": "2.7.14"
  }
 },
 "nbformat": 4,
 "nbformat_minor": 2
}
