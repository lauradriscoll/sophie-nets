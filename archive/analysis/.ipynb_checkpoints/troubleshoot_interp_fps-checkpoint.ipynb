{
 "cells": [
  {
   "cell_type": "code",
   "execution_count": 1,
   "metadata": {},
   "outputs": [
    {
     "name": "stdout",
     "output_type": "stream",
     "text": [
      "No display found. Using non-interactive Agg backend.\n"
     ]
    },
    {
     "name": "stderr",
     "output_type": "stream",
     "text": [
      "/Users/lauradriscoll/Documents/code/recurrent-whisperer/AdaptiveLearningRate.py:18: UserWarning: \n",
      "This call to matplotlib.use() has no effect because the backend has already\n",
      "been chosen; matplotlib.use() must be called *before* pylab, matplotlib.pyplot,\n",
      "or matplotlib.backends is imported for the first time.\n",
      "\n",
      "The backend was *originally* set to 'module://ipykernel.pylab.backend_inline' by the following code:\n",
      "  File \"/Users/lauradriscoll/anaconda2/envs/tensorflow/lib/python2.7/runpy.py\", line 174, in _run_module_as_main\n",
      "    \"__main__\", fname, loader, pkg_name)\n",
      "  File \"/Users/lauradriscoll/anaconda2/envs/tensorflow/lib/python2.7/runpy.py\", line 72, in _run_code\n",
      "    exec code in run_globals\n",
      "  File \"/Users/lauradriscoll/anaconda2/envs/tensorflow/lib/python2.7/site-packages/ipykernel_launcher.py\", line 16, in <module>\n",
      "    app.launch_new_instance()\n",
      "  File \"/Users/lauradriscoll/anaconda2/envs/tensorflow/lib/python2.7/site-packages/traitlets/config/application.py\", line 664, in launch_instance\n",
      "    app.start()\n",
      "  File \"/Users/lauradriscoll/anaconda2/envs/tensorflow/lib/python2.7/site-packages/ipykernel/kernelapp.py\", line 499, in start\n",
      "    self.io_loop.start()\n",
      "  File \"/Users/lauradriscoll/anaconda2/envs/tensorflow/lib/python2.7/site-packages/tornado/ioloop.py\", line 1073, in start\n",
      "    handler_func(fd_obj, events)\n",
      "  File \"/Users/lauradriscoll/anaconda2/envs/tensorflow/lib/python2.7/site-packages/tornado/stack_context.py\", line 300, in null_wrapper\n",
      "    return fn(*args, **kwargs)\n",
      "  File \"/Users/lauradriscoll/anaconda2/envs/tensorflow/lib/python2.7/site-packages/zmq/eventloop/zmqstream.py\", line 456, in _handle_events\n",
      "    self._handle_recv()\n",
      "  File \"/Users/lauradriscoll/anaconda2/envs/tensorflow/lib/python2.7/site-packages/zmq/eventloop/zmqstream.py\", line 486, in _handle_recv\n",
      "    self._run_callback(callback, msg)\n",
      "  File \"/Users/lauradriscoll/anaconda2/envs/tensorflow/lib/python2.7/site-packages/zmq/eventloop/zmqstream.py\", line 438, in _run_callback\n",
      "    callback(*args, **kwargs)\n",
      "  File \"/Users/lauradriscoll/anaconda2/envs/tensorflow/lib/python2.7/site-packages/tornado/stack_context.py\", line 300, in null_wrapper\n",
      "    return fn(*args, **kwargs)\n",
      "  File \"/Users/lauradriscoll/anaconda2/envs/tensorflow/lib/python2.7/site-packages/ipykernel/kernelbase.py\", line 283, in dispatcher\n",
      "    return self.dispatch_shell(stream, msg)\n",
      "  File \"/Users/lauradriscoll/anaconda2/envs/tensorflow/lib/python2.7/site-packages/ipykernel/kernelbase.py\", line 233, in dispatch_shell\n",
      "    handler(stream, idents, msg)\n",
      "  File \"/Users/lauradriscoll/anaconda2/envs/tensorflow/lib/python2.7/site-packages/ipykernel/kernelbase.py\", line 399, in execute_request\n",
      "    user_expressions, allow_stdin)\n",
      "  File \"/Users/lauradriscoll/anaconda2/envs/tensorflow/lib/python2.7/site-packages/ipykernel/ipkernel.py\", line 208, in do_execute\n",
      "    res = shell.run_cell(code, store_history=store_history, silent=silent)\n",
      "  File \"/Users/lauradriscoll/anaconda2/envs/tensorflow/lib/python2.7/site-packages/ipykernel/zmqshell.py\", line 537, in run_cell\n",
      "    return super(ZMQInteractiveShell, self).run_cell(*args, **kwargs)\n",
      "  File \"/Users/lauradriscoll/anaconda2/envs/tensorflow/lib/python2.7/site-packages/IPython/core/interactiveshell.py\", line 2714, in run_cell\n",
      "    interactivity=interactivity, compiler=compiler, result=result)\n",
      "  File \"/Users/lauradriscoll/anaconda2/envs/tensorflow/lib/python2.7/site-packages/IPython/core/interactiveshell.py\", line 2818, in run_ast_nodes\n",
      "    if self.run_code(code, result):\n",
      "  File \"/Users/lauradriscoll/anaconda2/envs/tensorflow/lib/python2.7/site-packages/IPython/core/interactiveshell.py\", line 2878, in run_code\n",
      "    exec(code_obj, self.user_global_ns, self.user_ns)\n",
      "  File \"<ipython-input-1-f1c6236a815a>\", line 12, in <module>\n",
      "    import matplotlib.pyplot as plt\n",
      "  File \"/Users/lauradriscoll/anaconda2/envs/tensorflow/lib/python2.7/site-packages/matplotlib/pyplot.py\", line 71, in <module>\n",
      "    from matplotlib.backends import pylab_setup\n",
      "  File \"/Users/lauradriscoll/anaconda2/envs/tensorflow/lib/python2.7/site-packages/matplotlib/backends/__init__.py\", line 16, in <module>\n",
      "    line for line in traceback.format_stack()\n",
      "\n",
      "\n",
      "  matplotlib.use('Agg')\n"
     ]
    }
   ],
   "source": [
    "from __future__ import absolute_import\n",
    "from __future__ import division\n",
    "from __future__ import print_function\n",
    "\n",
    "import os\n",
    "import pdb\n",
    "import numpy as np\n",
    "import numpy.random as npr\n",
    "import tensorflow as tf\n",
    "import sys\n",
    "import pickle\n",
    "import matplotlib.pyplot as plt\n",
    "import pdb\n",
    "import getpass\n",
    "\n",
    "ui = getpass.getuser()\n",
    "if ui == 'laura':\n",
    "    p = '/home/laura'\n",
    "elif ui == 'lauradriscoll':\n",
    "    p = '/Users/lauradriscoll/Documents'\n",
    "elif ui == 'lndrisco':\n",
    "    p = '/home/users/lndrisco'\n",
    "\n",
    "net = 'stepnet'\n",
    "PATH_YANGNET = os.path.join(p,'code/multitask-nets',net)\n",
    "\n",
    "sys.path.insert(0, PATH_YANGNET)\n",
    "from task import generate_trials, rule_name, rule_index_map\n",
    "from network import FixedPoint_Model\n",
    "import tools\n",
    "from tools_lnd import plot_N, plot_FP, name_best_ckpt, gen_trials_from_model_dir, same_stim_trial\n",
    "\n",
    "PATH_TO_RECURRENT_WHISPERER = p+'/code/recurrent-whisperer'#'/home/laura/code/recurrent-whisperer'#\n",
    "sys.path.insert(0, PATH_TO_RECURRENT_WHISPERER)\n",
    "from RecurrentWhisperer import RecurrentWhisperer\n",
    "\n",
    "PATH_TO_FIXED_POINT_FINDER = p+'/code/fixed-point-finder' #'/home/laura/code/fixed-point-finder-experimental'#\n",
    "sys.path.insert(0, PATH_TO_FIXED_POINT_FINDER)\n",
    "from FixedPointFinder import FixedPointFinder\n",
    "\n",
    "##################################################################\n",
    "#Find right model dir\n",
    "##################################################################\n",
    "model_n = 0\n",
    "# dir_specific_all = 'stepnet/crystals/softplus/l2w0001'#'crystals_no_noise/softplus/l2w0001/'#'crystals/softplus/no_reg'#''crystals/softplus/l2h00001'#'stepnet/crystals/softplus/'#grad_norm_both/'#'lowD/combos'#'stepnet/lowD/tanh'#'lowD/grad_norm_l2001' #' #'lowD/armnet_noreg'#lowD/combos' ##grad_norm_l2h000001' /Documents/data/rnn/multitask/varGo/lowD/most/\n",
    "dir_specific_all = 'stepnet/crystals/softplus/two_tasks/l2w0001_fdgo_fdanti/'\n",
    "model_dir_all = os.path.join(p,'data/rnn/multitask/',dir_specific_all,str(model_n))\n",
    "\n",
    "task_list = ['fdgo', 'reactgo', 'delaygo', 'fdanti', 'reactanti', 'delayanti',\n",
    "              'delaydm1', 'delaydm2', 'contextdelaydm1', 'contextdelaydm2', 'multidelaydm',\n",
    "              'dmsgo', 'dmsnogo', 'dmcgo', 'dmcnogo']\n",
    "\n",
    "epoch = 'stim1'"
   ]
  },
  {
   "cell_type": "code",
   "execution_count": 2,
   "metadata": {},
   "outputs": [],
   "source": [
    "def project2d(x,axes):\n",
    "\n",
    "    if x.ndim>1:\n",
    "        n_steps = x.shape[1]\n",
    "    else:\n",
    "        n_steps = 1\n",
    "\n",
    "    z = np.zeros((n_steps,2))\n",
    "    z[:,0] = np.dot(axes[:,0],x)\n",
    "    z[:,1] = np.dot(axes[:,1],x)\n",
    "    return z\n",
    "\n",
    "def add_unique_to_inputs_list(dict_list, key, value):\n",
    "    for d in range(len(dict_list)):\n",
    "        if (dict_list.values()[d]==value).all():\n",
    "            return False, dict_list\n",
    "\n",
    "    dict_list.update({key : value})\n",
    "    return True, dict_list\n",
    "\n",
    "def get_filename(task_list,t,step):\n",
    "    filename = task_list[0]+'_'+task_list[1]+'_trial_'+str(t)+'_step_'+str(step)\n",
    "\n",
    "    return filename"
   ]
  },
  {
   "cell_type": "code",
   "execution_count": 3,
   "metadata": {},
   "outputs": [
    {
     "name": "stdout",
     "output_type": "stream",
     "text": [
      "0.158113883008419\n",
      "Variables being optimized:\n",
      "<tf.Variable 'rnn/leaky_rnn_cell/kernel:0' shape=(281, 256) dtype=float32_ref>\n",
      "<tf.Variable 'rnn/leaky_rnn_cell/bias:0' shape=(256,) dtype=float32_ref>\n",
      "<tf.Variable 'output/weights:0' shape=(256, 3) dtype=float32_ref>\n",
      "<tf.Variable 'output/biases:0' shape=(3,) dtype=float32_ref>\n",
      "WARNING:tensorflow:From /Users/lauradriscoll/anaconda2/envs/tensorflow/lib/python2.7/site-packages/tensorflow/python/util/tf_should_use.py:118: initialize_all_variables (from tensorflow.python.ops.variables) is deprecated and will be removed after 2017-03-02.\n",
      "Instructions for updating:\n",
      "Use `tf.global_variables_initializer` instead.\n",
      "INFO:tensorflow:Restoring parameters from /Users/lauradriscoll/Documents/data/rnn/multitask/stepnet/crystals/softplus/two_tasks/l2w0001_fdgo_fdanti/0/model.ckpt\n",
      "Model restored from file: /Users/lauradriscoll/Documents/data/rnn/multitask/stepnet/crystals/softplus/two_tasks/l2w0001_fdgo_fdanti/0/model.ckpt\n",
      "0.158113883008419\n",
      "Variables being optimized:\n",
      "<tf.Variable 'rnn/leaky_rnn_cell/kernel:0' shape=(281, 256) dtype=float32_ref>\n",
      "<tf.Variable 'rnn/leaky_rnn_cell/bias:0' shape=(256,) dtype=float32_ref>\n",
      "<tf.Variable 'output/weights:0' shape=(256, 3) dtype=float32_ref>\n",
      "<tf.Variable 'output/biases:0' shape=(3,) dtype=float32_ref>\n",
      "INFO:tensorflow:Restoring parameters from /Users/lauradriscoll/Documents/data/rnn/multitask/stepnet/crystals/softplus/two_tasks/l2w0001_fdgo_fdanti/0/model.ckpt\n",
      "Model restored from file: /Users/lauradriscoll/Documents/data/rnn/multitask/stepnet/crystals/softplus/two_tasks/l2w0001_fdgo_fdanti/0/model.ckpt\n",
      "Overwrite sigma_rec with 0.000\n",
      "0.0\n",
      "INFO:tensorflow:Restoring parameters from /Users/lauradriscoll/Documents/data/rnn/multitask/stepnet/crystals/softplus/two_tasks/l2w0001_fdgo_fdanti/0/model.ckpt\n",
      "Model restored from file: /Users/lauradriscoll/Documents/data/rnn/multitask/stepnet/crystals/softplus/two_tasks/l2w0001_fdgo_fdanti/0/model.ckpt\n",
      "[[1. 0. 1. 0. 0. 0. 0. 0. 1. 0. 0. 0. 0. 0. 0. 0. 0. 0. 0. 0. 0. 0. 0. 0.\n",
      "  0.]]\n",
      "[[1.   0.   1.   0.   0.   0.05 0.   0.   0.95 0.   0.   0.   0.   0.\n",
      "  0.   0.   0.   0.   0.   0.   0.   0.   0.   0.   0.  ]]\n",
      "[[1.  0.  1.  0.  0.  0.1 0.  0.  0.9 0.  0.  0.  0.  0.  0.  0.  0.  0.\n",
      "  0.  0.  0.  0.  0.  0.  0. ]]\n",
      "[[1.   0.   1.   0.   0.   0.15 0.   0.   0.85 0.   0.   0.   0.   0.\n",
      "  0.   0.   0.   0.   0.   0.   0.   0.   0.   0.   0.  ]]\n",
      "[[1.  0.  1.  0.  0.  0.2 0.  0.  0.8 0.  0.  0.  0.  0.  0.  0.  0.  0.\n",
      "  0.  0.  0.  0.  0.  0.  0. ]]\n",
      "[[1.   0.   1.   0.   0.   0.25 0.   0.   0.75 0.   0.   0.   0.   0.\n",
      "  0.   0.   0.   0.   0.   0.   0.   0.   0.   0.   0.  ]]\n",
      "[[1.  0.  1.  0.  0.  0.3 0.  0.  0.7 0.  0.  0.  0.  0.  0.  0.  0.  0.\n",
      "  0.  0.  0.  0.  0.  0.  0. ]]\n",
      "[[1.   0.   1.   0.   0.   0.35 0.   0.   0.65 0.   0.   0.   0.   0.\n",
      "  0.   0.   0.   0.   0.   0.   0.   0.   0.   0.   0.  ]]\n",
      "[[1.  0.  1.  0.  0.  0.4 0.  0.  0.6 0.  0.  0.  0.  0.  0.  0.  0.  0.\n",
      "  0.  0.  0.  0.  0.  0.  0. ]]\n",
      "[[1.   0.   1.   0.   0.   0.45 0.   0.   0.55 0.   0.   0.   0.   0.\n",
      "  0.   0.   0.   0.   0.   0.   0.   0.   0.   0.   0.  ]]\n",
      "[[1.  0.  1.  0.  0.  0.5 0.  0.  0.5 0.  0.  0.  0.  0.  0.  0.  0.  0.\n",
      "  0.  0.  0.  0.  0.  0.  0. ]]\n",
      "[[1.   0.   1.   0.   0.   0.55 0.   0.   0.45 0.   0.   0.   0.   0.\n",
      "  0.   0.   0.   0.   0.   0.   0.   0.   0.   0.   0.  ]]\n",
      "[[1.         0.         1.         0.         0.         0.6\n",
      "  0.         0.         0.39999998 0.         0.         0.\n",
      "  0.         0.         0.         0.         0.         0.\n",
      "  0.         0.         0.         0.         0.         0.\n",
      "  0.        ]]\n",
      "[[1.         0.         1.         0.         0.         0.65\n",
      "  0.         0.         0.35000002 0.         0.         0.\n",
      "  0.         0.         0.         0.         0.         0.\n",
      "  0.         0.         0.         0.         0.         0.\n",
      "  0.        ]]\n",
      "[[1.  0.  1.  0.  0.  0.7 0.  0.  0.3 0.  0.  0.  0.  0.  0.  0.  0.  0.\n",
      "  0.  0.  0.  0.  0.  0.  0. ]]\n",
      "[[1.   0.   1.   0.   0.   0.75 0.   0.   0.25 0.   0.   0.   0.   0.\n",
      "  0.   0.   0.   0.   0.   0.   0.   0.   0.   0.   0.  ]]\n",
      "[[1.         0.         1.         0.         0.         0.8\n",
      "  0.         0.         0.19999999 0.         0.         0.\n",
      "  0.         0.         0.         0.         0.         0.\n",
      "  0.         0.         0.         0.         0.         0.\n",
      "  0.        ]]\n",
      "[[1.         0.         1.         0.         0.         0.85\n",
      "  0.         0.         0.14999998 0.         0.         0.\n",
      "  0.         0.         0.         0.         0.         0.\n",
      "  0.         0.         0.         0.         0.         0.\n",
      "  0.        ]]\n",
      "[[1.         0.         1.         0.         0.         0.9\n",
      "  0.         0.         0.10000002 0.         0.         0.\n",
      "  0.         0.         0.         0.         0.         0.\n",
      "  0.         0.         0.         0.         0.         0.\n",
      "  0.        ]]\n",
      "[[1.         0.         1.         0.         0.         0.95\n",
      "  0.         0.         0.05000001 0.         0.         0.\n",
      "  0.         0.         0.         0.         0.         0.\n",
      "  0.         0.         0.         0.         0.         0.\n",
      "  0.        ]]\n"
     ]
    }
   ],
   "source": [
    "##################################################################\n",
    "#Run fixed pt finder\n",
    "##################################################################\n",
    "\n",
    "'''Initial states are sampled from states observed during realistic behavior\n",
    "of the network. Because a well-trained network transitions instantaneously\n",
    "from one stable state to another, observed networks states spend little if any\n",
    "time near the unstable fixed points. In order to identify ALL fixed points,\n",
    "noise must be added to the initial states before handing them to the fixed\n",
    "point finder.'''\n",
    "NOISE_SCALE = 0.05 #0.01 #0.5 # Standard deviation of noise added to initial states\n",
    "N_INITS = 1000 # The number of initial states to provide\n",
    "n_interp = 20 # number of steps between input conditions\n",
    "\n",
    "r1 = 3\n",
    "r2 = 0\n",
    "\n",
    "rule1 =  task_list[r1]\n",
    "rule2 =  task_list[r2]\n",
    "\n",
    "task_list = [rule1,rule2]\n",
    "\n",
    "trial1 = gen_trials_from_model_dir(model_dir_all,rule1,mode='test',noise_on = False)\n",
    "trial2 = same_stim_trial(trial1, r2) \n",
    "trial1 = gen_trials_from_model_dir(model_dir_all,rule1,mode='test',noise_on = False)\n",
    "\n",
    "model = FixedPoint_Model(model_dir_all)\n",
    "with tf.Session() as sess:\n",
    "    model.restore()\n",
    "    model._sigma=0\n",
    "    # get all connection weights and biases as tensorflow variables\n",
    "    var_list = model.var_list\n",
    "    # evaluate the parameters after training\n",
    "    params = [sess.run(var) for var in var_list]\n",
    "    # get hparams\n",
    "    hparams = model.hp\n",
    "\n",
    "    feed_dict1 = tools.gen_feed_dict(model, trial1, hparams)\n",
    "    h_tf1, y_hat_tf1 = sess.run([model.h, model.y_hat], feed_dict=feed_dict1) #(n_time, n_condition, n_neuron) \n",
    "\n",
    "    feed_dict2 = tools.gen_feed_dict(model, trial2, hparams)\n",
    "    h_tf2, y_hat_tf2 = sess.run([model.h, model.y_hat], feed_dict=feed_dict2) #(n_time, n_condition, n_neuron) \n",
    "\n",
    "    ##################################################################\n",
    "    # get shapes   \n",
    "    n_steps, n_trials, n_input_dim = np.shape(trial1.x)\n",
    "    n_rnn = np.shape(h_tf1)[2]\n",
    "    n_output = np.shape(y_hat_tf1)[2]\n",
    "\n",
    "    # Fixed point finder hyperparameters\n",
    "    # See FixedPointFinder.py for detailed descriptions of available\n",
    "    # hyperparameters.\n",
    "    fpf_hps = {'tol_q': 1e-9}\n",
    "    alr_dict = ({'decrease_factor' : .95, 'initial_rate' : 1})\n",
    "\n",
    "    trial_set = [trial1, trial2]\n",
    "    e_lims = np.zeros((2,len(trial_set)))\n",
    "\n",
    "    for ti in range(len(trial_set)):\n",
    "        trial = trial_set[ti]\n",
    "        e_start = max([0, trial.epochs[epoch][0]])\n",
    "        e_lims[0,ti] = int(e_start)\n",
    "        end_set = [np.shape(trial.x)[0], trial.epochs[epoch][1]]\n",
    "        e_end = min(x for x in end_set if x is not None)\n",
    "        e_lims[1,ti] = int(e_end)\n",
    "\n",
    "    n_inputs = 0\n",
    "    input_set = {str(n_inputs) : np.zeros((1,n_input_dim))}\n",
    "\n",
    "    h_tf_cat1 = h_tf1#h_tf1[:int(e_lims[1,0]),:,:]\n",
    "    h_tf_cat2 = h_tf2#h_tf2[:int(e_lims[1,1]),:,:]\n",
    "    h_tf_cat = np.concatenate((h_tf_cat1,h_tf_cat2),axis = 0)\n",
    "\n",
    "    example_predictions = {'state': np.transpose(h_tf_cat,(1,0,2))}\n",
    "\n",
    "    fp_predictions = []\n",
    "\n",
    "    for t in range(1):#range(1,n_trials): np.arange(0, 40, 8): #0,n_trials,40\n",
    "\n",
    "        inputs_1 = trial1.x[int(e_lims[0,0]+1),t,:]\n",
    "        inputs_2 = trial2.x[int(e_lims[0,1]+1),t,:]\n",
    "        del_inputs = inputs_2 - inputs_1\n",
    "\n",
    "        for step_i in range(n_interp):\n",
    "\n",
    "            step_inputs = inputs_1[np.newaxis,:]+del_inputs[np.newaxis,:]*(step_i/n_interp)\n",
    "            inputs = step_inputs\n",
    "            inputs_big = inputs[np.newaxis,:]\n",
    "\n",
    "            print(step_inputs)"
   ]
  },
  {
   "cell_type": "code",
   "execution_count": 4,
   "metadata": {},
   "outputs": [
    {
     "data": {
      "text/plain": [
       "array([1., 0., 1., 0., 0., 0., 0., 0., 1., 0., 0., 0., 0., 0., 0., 0., 0.,\n",
       "       0., 0., 0., 0., 0., 0., 0., 0.], dtype=float32)"
      ]
     },
     "execution_count": 4,
     "metadata": {},
     "output_type": "execute_result"
    }
   ],
   "source": [
    "trial1.x[int(e_lims[0,0]+1),t,:]"
   ]
  },
  {
   "cell_type": "code",
   "execution_count": 5,
   "metadata": {},
   "outputs": [
    {
     "data": {
      "text/plain": [
       "array([1., 0., 1., 0., 0., 1., 0., 0., 0., 0., 0., 0., 0., 0., 0., 0., 0.,\n",
       "       0., 0., 0., 0., 0., 0., 0., 0.], dtype=float32)"
      ]
     },
     "execution_count": 5,
     "metadata": {},
     "output_type": "execute_result"
    }
   ],
   "source": [
    "trial2.x[int(e_lims[0,1]+1),t,:]"
   ]
  },
  {
   "cell_type": "code",
   "execution_count": 13,
   "metadata": {},
   "outputs": [
    {
     "data": {
      "image/png": "[encoded data removed]",
      "text/plain": [
       "<Figure size 432x288 with 1 Axes>"
      ]
     },
     "metadata": {
      "needs_background": "light"
     },
     "output_type": "display_data"
    }
   ],
   "source": [
    "inputs_1 = trial1.x[int(e_lims[0,0]+1),t,:]\n",
    "inputs_2 = trial2.x[int(e_lims[0,1]+1),t,:]\n",
    "del_inputs = inputs_2 - inputs_1\n",
    "cmap = plt.get_cmap('Spectral')\n",
    "\n",
    "for step_i in range(n_interp):\n",
    "\n",
    "    step_inputs = inputs_1[np.newaxis,:]+del_inputs[np.newaxis,:]*(step_i/n_interp)\n",
    "    inputs = step_inputs\n",
    "    inputs_big = inputs[np.newaxis,:]\n",
    "\n",
    "    plt.plot(step_inputs.T,'-o',alpha = .5, c = cmap(step_i/n_interp))"
   ]
  },
  {
   "cell_type": "code",
   "execution_count": 9,
   "metadata": {},
   "outputs": [
    {
     "data": {
      "text/plain": [
       "(1, 25)"
      ]
     },
     "execution_count": 9,
     "metadata": {},
     "output_type": "execute_result"
    }
   ],
   "source": [
    "np.shape(step_inputs)"
   ]
  },
  {
   "cell_type": "code",
   "execution_count": 34,
   "metadata": {},
   "outputs": [],
   "source": [
    "trial2 = trial1"
   ]
  },
  {
   "cell_type": "code",
   "execution_count": 36,
   "metadata": {},
   "outputs": [],
   "source": [
    "trial2.x[:,:,stim_rep_size:] = 0\n",
    "trial2.x[:,:,stim_rep_size+r2] = 1"
   ]
  },
  {
   "cell_type": "code",
   "execution_count": 41,
   "metadata": {},
   "outputs": [
    {
     "data": {
      "image/png": "[encoded data removed]",
      "text/plain": [
       "<Figure size 432x288 with 1 Axes>"
      ]
     },
     "metadata": {
      "needs_background": "light"
     },
     "output_type": "display_data"
    }
   ],
   "source": [
    "plt.plot(trial1.x[0,0,:].T)\n",
    "plt.plot(trial2.x[0,0,:].T)\n",
    "plt.show()"
   ]
  },
  {
   "cell_type": "code",
   "execution_count": 23,
   "metadata": {},
   "outputs": [],
   "source": [
    "trial2 = same_stim_trial(trial1, r2) "
   ]
  },
  {
   "cell_type": "code",
   "execution_count": 30,
   "metadata": {},
   "outputs": [],
   "source": [
    "n_stim_per_ring = int(np.shape(trial1.y)[2]-1)\n",
    "stim_rep_size = int(2*n_stim_per_ring+1)\n",
    "trial2 = trial1\n",
    "trial2.x[:,:,stim_rep_size:] = 0\n",
    "trial2.x[:,:,stim_rep_size+r2] = 1"
   ]
  },
  {
   "cell_type": "code",
   "execution_count": 40,
   "metadata": {},
   "outputs": [
    {
     "name": "stdout",
     "output_type": "stream",
     "text": [
      "0.158113883008419\n",
      "Variables being optimized:\n",
      "<tf.Variable 'rnn/leaky_rnn_cell/kernel:0' shape=(281, 256) dtype=float32_ref>\n",
      "<tf.Variable 'rnn/leaky_rnn_cell/bias:0' shape=(256,) dtype=float32_ref>\n",
      "<tf.Variable 'output/weights:0' shape=(256, 3) dtype=float32_ref>\n",
      "<tf.Variable 'output/biases:0' shape=(3,) dtype=float32_ref>\n",
      "INFO:tensorflow:Restoring parameters from /Users/lauradriscoll/Documents/data/rnn/multitask/stepnet/crystals/softplus/two_tasks/l2w0001_fdgo_fdanti/0/model.ckpt\n",
      "Model restored from file: /Users/lauradriscoll/Documents/data/rnn/multitask/stepnet/crystals/softplus/two_tasks/l2w0001_fdgo_fdanti/0/model.ckpt\n",
      "0.158113883008419\n",
      "Variables being optimized:\n",
      "<tf.Variable 'rnn/leaky_rnn_cell/kernel:0' shape=(281, 256) dtype=float32_ref>\n",
      "<tf.Variable 'rnn/leaky_rnn_cell/bias:0' shape=(256,) dtype=float32_ref>\n",
      "<tf.Variable 'output/weights:0' shape=(256, 3) dtype=float32_ref>\n",
      "<tf.Variable 'output/biases:0' shape=(3,) dtype=float32_ref>\n",
      "INFO:tensorflow:Restoring parameters from /Users/lauradriscoll/Documents/data/rnn/multitask/stepnet/crystals/softplus/two_tasks/l2w0001_fdgo_fdanti/0/model.ckpt\n",
      "Model restored from file: /Users/lauradriscoll/Documents/data/rnn/multitask/stepnet/crystals/softplus/two_tasks/l2w0001_fdgo_fdanti/0/model.ckpt\n"
     ]
    }
   ],
   "source": [
    "trial1 = gen_trials_from_model_dir(model_dir_all,rule1,mode='test',noise_on = False)\n",
    "trial2 = same_stim_trial(trial1, r2) \n",
    "trial1 = gen_trials_from_model_dir(model_dir_all,rule1,mode='test',noise_on = False)"
   ]
  },
  {
   "cell_type": "code",
   "execution_count": null,
   "metadata": {},
   "outputs": [],
   "source": []
  }
 ],
 "metadata": {
  "kernelspec": {
   "display_name": "Python 2",
   "language": "python",
   "name": "python2"
  },
  "language_info": {
   "codemirror_mode": {
    "name": "ipython",
    "version": 2
   },
   "file_extension": ".py",
   "mimetype": "text/x-python",
   "name": "python",
   "nbconvert_exporter": "python",
   "pygments_lexer": "ipython2",
   "version": "2.7.14"
  }
 },
 "nbformat": 4,
 "nbformat_minor": 2
}
