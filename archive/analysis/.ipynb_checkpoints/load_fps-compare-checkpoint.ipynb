{
 "cells": [
  {
   "cell_type": "code",
   "execution_count": 4,
   "metadata": {
    "collapsed": true
   },
   "outputs": [],
   "source": [
    "from __future__ import absolute_import\n",
    "from __future__ import division\n",
    "from __future__ import print_function\n",
    "\n",
    "import os\n",
    "import pdb\n",
    "import numpy as np\n",
    "import numpy.random as npr\n",
    "import tensorflow as tf\n",
    "import sys\n",
    "import matplotlib.pyplot as plt\n",
    "import re\n",
    "from sklearn.decomposition import PCA\n",
    "from numpy import linalg as LA\n",
    "from scipy.spatial import distance\n",
    "from sklearn.metrics.pairwise import euclidean_distances\n",
    "from sklearn.metrics.pairwise import paired_distances\n",
    "\n",
    "PATH_YANGNET = '/Users/lauradriscoll/Documents/code/yangnet/training' #'/home/laura/code/yangnet/training'\n",
    "sys.path.insert(0, PATH_YANGNET)\n",
    "from task import generate_trials, rule_name, rule_index_map, rules_dict\n",
    "from network import Model\n",
    "import tools\n",
    "\n",
    "from tools_lnd import gen_trials_from_model_dir, gen_X_from_model_dir, gen_X_from_model_dir_epoch, name_best_ckpt, find_ckpts, get_model_params"
   ]
  },
  {
   "cell_type": "code",
   "execution_count": 17,
   "metadata": {
    "collapsed": true
   },
   "outputs": [],
   "source": [
    "def plot_sitch(fpf_dict,stim,trial_set,pc_ind0=0,pc_ind1=1):\n",
    "    qmap=plt.get_cmap('hot')\n",
    "    cmap=plt.get_cmap('rainbow')\n",
    "    \n",
    "    pca = PCA()\n",
    "    # pca on only task 0\n",
    "    X = fpf_dict[rule_set[0]]['state_traj'][trial_set,:,:] \n",
    "    # pca on traj for both tasks\n",
    "#     X = np.concatenate((fpf_dict[rule_set[0]]['state_traj'][trial_set,:,:], \n",
    "#                         fpf_dict[rule_set[1]]['state_traj'][trial_set,:,:]),axis = 0)\n",
    "    X_pca = pca.fit_transform(X.reshape((np.shape(X)[0]*np.shape(X)[1], np.shape(X)[2])))\n",
    "\n",
    "    for xi in range(len(fpf_dict[rule]['xstar'])):\n",
    "        c_go = qmap(fpf_dict[rule]['qstar'][xi]/np.max(fpf_dict[rule_set[0]]['qstar']))\n",
    "        c_anti = qmap(fpf_dict[rule]['qstar'][xi]/np.max(fpf_dict[rule_set[1]]['qstar']))\n",
    "                      \n",
    "        xstar_pca = pca.transform(np.expand_dims(fpf_dict[rule_set[0]]['xstar'][xi],axis = 1))\n",
    "        plt.plot(xstar_pca[:,pc_ind0],xstar_pca[:,pc_ind1],'o', color = c_go,alpha = .01)\n",
    "\n",
    "        xstar_pca = pca.transform(np.expand_dims(fpf_dict[rule_set[1]]['xstar'][xi],axis = 1))\n",
    "        plt.plot(xstar_pca[:,pc_ind0],xstar_pca[:,pc_ind1],'x', color = c_anti,alpha = .01)\n",
    "\n",
    "    for t in trial_set:\n",
    "        print(t)\n",
    "        c = cmap(t/np.shape(fpf_dict[rule_set[0]]['state_traj'])[1])\n",
    "        \n",
    "        X_trial = pca.transform(fpf_dict[rule_set[0]]['state_traj'][t,:,:])\n",
    "        plt.plot(X_trial[stim,pc_ind0],X_trial[stim,pc_ind1],'o',c = c)\n",
    "        plt.plot(X_trial[stim:T,pc_ind0],X_trial[stim:T,pc_ind1],'-',c = c)\n",
    "\n",
    "        X_trial = pca.transform(fpf_dict[rule_set[1]]['state_traj'][t,:,:])\n",
    "        plt.plot(X_trial[stim,pc_ind0],X_trial[stim,pc_ind1],'o',c = c)\n",
    "        plt.plot(X_trial[stim:,pc_ind0],X_trial[stim:,pc_ind1],':',c = c)\n",
    "        \n",
    "def q_scale(q):\n",
    "    q_shift = q - np.min(q)\n",
    "    qs = q_shift/np.max(q_shift)\n",
    "    return qs"
   ]
  },
  {
   "cell_type": "code",
   "execution_count": 19,
   "metadata": {},
   "outputs": [
    {
     "name": "stdout",
     "output_type": "stream",
     "text": [
      "Variables being optimized:\n",
      "<tf.Variable 'rnn/leaky_rnn_cell/kernel:0' shape=(281, 256) dtype=float32_ref>\n",
      "<tf.Variable 'rnn/leaky_rnn_cell/bias:0' shape=(256,) dtype=float32_ref>\n",
      "<tf.Variable 'output/weights:0' shape=(256, 3) dtype=float32_ref>\n",
      "<tf.Variable 'output/biases:0' shape=(3,) dtype=float32_ref>\n",
      "INFO:tensorflow:Restoring parameters from /Users/lauradriscoll/Documents/data/rnn/multitask/lowD/grad_norm_l2h000001/most/0/model.ckpt\n",
      "Model restored from file: /Users/lauradriscoll/Documents/data/rnn/multitask/lowD/grad_norm_l2h000001/most/0/model.ckpt\n",
      "Variables being optimized:\n",
      "<tf.Variable 'rnn/leaky_rnn_cell/kernel:0' shape=(281, 256) dtype=float32_ref>\n",
      "<tf.Variable 'rnn/leaky_rnn_cell/bias:0' shape=(256,) dtype=float32_ref>\n",
      "<tf.Variable 'output/weights:0' shape=(256, 3) dtype=float32_ref>\n",
      "<tf.Variable 'output/biases:0' shape=(3,) dtype=float32_ref>\n",
      "INFO:tensorflow:Restoring parameters from /Users/lauradriscoll/Documents/data/rnn/multitask/lowD/grad_norm_l2h000001/most/0/model.ckpt\n",
      "Model restored from file: /Users/lauradriscoll/Documents/data/rnn/multitask/lowD/grad_norm_l2h000001/most/0/model.ckpt\n",
      "Variables being optimized:\n",
      "<tf.Variable 'rnn/leaky_rnn_cell/kernel:0' shape=(281, 256) dtype=float32_ref>\n",
      "<tf.Variable 'rnn/leaky_rnn_cell/bias:0' shape=(256,) dtype=float32_ref>\n",
      "<tf.Variable 'output/weights:0' shape=(256, 3) dtype=float32_ref>\n",
      "<tf.Variable 'output/biases:0' shape=(3,) dtype=float32_ref>\n",
      "INFO:tensorflow:Restoring parameters from /Users/lauradriscoll/Documents/data/rnn/multitask/lowD/grad_norm_l2h000001/most/0/model.ckpt\n",
      "Model restored from file: /Users/lauradriscoll/Documents/data/rnn/multitask/lowD/grad_norm_l2h000001/most/0/model.ckpt\n",
      "Variables being optimized:\n",
      "<tf.Variable 'rnn/leaky_rnn_cell/kernel:0' shape=(281, 256) dtype=float32_ref>\n",
      "<tf.Variable 'rnn/leaky_rnn_cell/bias:0' shape=(256,) dtype=float32_ref>\n",
      "<tf.Variable 'output/weights:0' shape=(256, 3) dtype=float32_ref>\n",
      "<tf.Variable 'output/biases:0' shape=(3,) dtype=float32_ref>\n",
      "INFO:tensorflow:Restoring parameters from /Users/lauradriscoll/Documents/data/rnn/multitask/lowD/grad_norm_l2h000001/most/0/model.ckpt\n",
      "Model restored from file: /Users/lauradriscoll/Documents/data/rnn/multitask/lowD/grad_norm_l2h000001/most/0/model.ckpt\n",
      "Variables being optimized:\n",
      "<tf.Variable 'rnn/leaky_rnn_cell/kernel:0' shape=(281, 256) dtype=float32_ref>\n",
      "<tf.Variable 'rnn/leaky_rnn_cell/bias:0' shape=(256,) dtype=float32_ref>\n",
      "<tf.Variable 'output/weights:0' shape=(256, 3) dtype=float32_ref>\n",
      "<tf.Variable 'output/biases:0' shape=(3,) dtype=float32_ref>\n",
      "INFO:tensorflow:Restoring parameters from /Users/lauradriscoll/Documents/data/rnn/multitask/lowD/grad_norm_l2h000001/most/0/model.ckpt\n",
      "Model restored from file: /Users/lauradriscoll/Documents/data/rnn/multitask/lowD/grad_norm_l2h000001/most/0/model.ckpt\n",
      "Variables being optimized:\n",
      "<tf.Variable 'rnn/leaky_rnn_cell/kernel:0' shape=(281, 256) dtype=float32_ref>\n",
      "<tf.Variable 'rnn/leaky_rnn_cell/bias:0' shape=(256,) dtype=float32_ref>\n",
      "<tf.Variable 'output/weights:0' shape=(256, 3) dtype=float32_ref>\n",
      "<tf.Variable 'output/biases:0' shape=(3,) dtype=float32_ref>\n",
      "INFO:tensorflow:Restoring parameters from /Users/lauradriscoll/Documents/data/rnn/multitask/lowD/grad_norm_l2h000001/most/0/model.ckpt\n",
      "Model restored from file: /Users/lauradriscoll/Documents/data/rnn/multitask/lowD/grad_norm_l2h000001/most/0/model.ckpt\n",
      "Variables being optimized:\n",
      "<tf.Variable 'rnn/leaky_rnn_cell/kernel:0' shape=(281, 256) dtype=float32_ref>\n",
      "<tf.Variable 'rnn/leaky_rnn_cell/bias:0' shape=(256,) dtype=float32_ref>\n",
      "<tf.Variable 'output/weights:0' shape=(256, 3) dtype=float32_ref>\n",
      "<tf.Variable 'output/biases:0' shape=(3,) dtype=float32_ref>\n",
      "INFO:tensorflow:Restoring parameters from /Users/lauradriscoll/Documents/data/rnn/multitask/lowD/grad_norm_l2h000001/most/0/model.ckpt\n",
      "Model restored from file: /Users/lauradriscoll/Documents/data/rnn/multitask/lowD/grad_norm_l2h000001/most/0/model.ckpt\n",
      "Variables being optimized:\n",
      "<tf.Variable 'rnn/leaky_rnn_cell/kernel:0' shape=(281, 256) dtype=float32_ref>\n",
      "<tf.Variable 'rnn/leaky_rnn_cell/bias:0' shape=(256,) dtype=float32_ref>\n",
      "<tf.Variable 'output/weights:0' shape=(256, 3) dtype=float32_ref>\n",
      "<tf.Variable 'output/biases:0' shape=(3,) dtype=float32_ref>\n",
      "INFO:tensorflow:Restoring parameters from /Users/lauradriscoll/Documents/data/rnn/multitask/lowD/grad_norm_l2h000001/most/0/model.ckpt\n",
      "Model restored from file: /Users/lauradriscoll/Documents/data/rnn/multitask/lowD/grad_norm_l2h000001/most/0/model.ckpt\n",
      "Variables being optimized:\n",
      "<tf.Variable 'rnn/leaky_rnn_cell/kernel:0' shape=(281, 256) dtype=float32_ref>\n",
      "<tf.Variable 'rnn/leaky_rnn_cell/bias:0' shape=(256,) dtype=float32_ref>\n",
      "<tf.Variable 'output/weights:0' shape=(256, 3) dtype=float32_ref>\n",
      "<tf.Variable 'output/biases:0' shape=(3,) dtype=float32_ref>\n",
      "INFO:tensorflow:Restoring parameters from /Users/lauradriscoll/Documents/data/rnn/multitask/lowD/grad_norm_l2h000001/most/0/model.ckpt\n",
      "Model restored from file: /Users/lauradriscoll/Documents/data/rnn/multitask/lowD/grad_norm_l2h000001/most/0/model.ckpt\n",
      "Variables being optimized:\n",
      "<tf.Variable 'rnn/leaky_rnn_cell/kernel:0' shape=(281, 256) dtype=float32_ref>\n",
      "<tf.Variable 'rnn/leaky_rnn_cell/bias:0' shape=(256,) dtype=float32_ref>\n",
      "<tf.Variable 'output/weights:0' shape=(256, 3) dtype=float32_ref>\n",
      "<tf.Variable 'output/biases:0' shape=(3,) dtype=float32_ref>\n",
      "INFO:tensorflow:Restoring parameters from /Users/lauradriscoll/Documents/data/rnn/multitask/lowD/grad_norm_l2h000001/most/0/model.ckpt\n",
      "Model restored from file: /Users/lauradriscoll/Documents/data/rnn/multitask/lowD/grad_norm_l2h000001/most/0/model.ckpt\n",
      "Variables being optimized:\n",
      "<tf.Variable 'rnn/leaky_rnn_cell/kernel:0' shape=(281, 256) dtype=float32_ref>\n",
      "<tf.Variable 'rnn/leaky_rnn_cell/bias:0' shape=(256,) dtype=float32_ref>\n",
      "<tf.Variable 'output/weights:0' shape=(256, 3) dtype=float32_ref>\n",
      "<tf.Variable 'output/biases:0' shape=(3,) dtype=float32_ref>\n",
      "INFO:tensorflow:Restoring parameters from /Users/lauradriscoll/Documents/data/rnn/multitask/lowD/grad_norm_l2h000001/most/0/model.ckpt\n",
      "Model restored from file: /Users/lauradriscoll/Documents/data/rnn/multitask/lowD/grad_norm_l2h000001/most/0/model.ckpt\n",
      "Variables being optimized:\n",
      "<tf.Variable 'rnn/leaky_rnn_cell/kernel:0' shape=(281, 256) dtype=float32_ref>\n",
      "<tf.Variable 'rnn/leaky_rnn_cell/bias:0' shape=(256,) dtype=float32_ref>\n",
      "<tf.Variable 'output/weights:0' shape=(256, 3) dtype=float32_ref>\n",
      "<tf.Variable 'output/biases:0' shape=(3,) dtype=float32_ref>\n",
      "INFO:tensorflow:Restoring parameters from /Users/lauradriscoll/Documents/data/rnn/multitask/lowD/grad_norm_l2h000001/most/0/model.ckpt\n",
      "Model restored from file: /Users/lauradriscoll/Documents/data/rnn/multitask/lowD/grad_norm_l2h000001/most/0/model.ckpt\n",
      "Variables being optimized:\n",
      "<tf.Variable 'rnn/leaky_rnn_cell/kernel:0' shape=(281, 256) dtype=float32_ref>\n",
      "<tf.Variable 'rnn/leaky_rnn_cell/bias:0' shape=(256,) dtype=float32_ref>\n",
      "<tf.Variable 'output/weights:0' shape=(256, 3) dtype=float32_ref>\n",
      "<tf.Variable 'output/biases:0' shape=(3,) dtype=float32_ref>\n",
      "INFO:tensorflow:Restoring parameters from /Users/lauradriscoll/Documents/data/rnn/multitask/lowD/grad_norm_l2h000001/most/0/model.ckpt\n",
      "Model restored from file: /Users/lauradriscoll/Documents/data/rnn/multitask/lowD/grad_norm_l2h000001/most/0/model.ckpt\n",
      "Variables being optimized:\n",
      "<tf.Variable 'rnn/leaky_rnn_cell/kernel:0' shape=(281, 256) dtype=float32_ref>\n",
      "<tf.Variable 'rnn/leaky_rnn_cell/bias:0' shape=(256,) dtype=float32_ref>\n",
      "<tf.Variable 'output/weights:0' shape=(256, 3) dtype=float32_ref>\n",
      "<tf.Variable 'output/biases:0' shape=(3,) dtype=float32_ref>\n",
      "INFO:tensorflow:Restoring parameters from /Users/lauradriscoll/Documents/data/rnn/multitask/lowD/grad_norm_l2h000001/most/0/model.ckpt\n",
      "Model restored from file: /Users/lauradriscoll/Documents/data/rnn/multitask/lowD/grad_norm_l2h000001/most/0/model.ckpt\n",
      "Variables being optimized:\n",
      "<tf.Variable 'rnn/leaky_rnn_cell/kernel:0' shape=(281, 256) dtype=float32_ref>\n",
      "<tf.Variable 'rnn/leaky_rnn_cell/bias:0' shape=(256,) dtype=float32_ref>\n",
      "<tf.Variable 'output/weights:0' shape=(256, 3) dtype=float32_ref>\n",
      "<tf.Variable 'output/biases:0' shape=(3,) dtype=float32_ref>\n",
      "INFO:tensorflow:Restoring parameters from /Users/lauradriscoll/Documents/data/rnn/multitask/lowD/grad_norm_l2h000001/most/0/model.ckpt\n"
     ]
    },
    {
     "name": "stdout",
     "output_type": "stream",
     "text": [
      "Model restored from file: /Users/lauradriscoll/Documents/data/rnn/multitask/lowD/grad_norm_l2h000001/most/0/model.ckpt\n"
     ]
    }
   ],
   "source": [
    "trial = {}\n",
    "fpf_dict = {}\n",
    "rule_set = ['fdgo', 'reactgo', 'delaygo', 'fdanti', 'reactanti', 'delayanti',\n",
    "              'delaydm1', 'delaydm2', 'contextdelaydm1', 'contextdelaydm2', 'multidelaydm',\n",
    "              'dmsgo', 'dmsnogo', 'dmcgo', 'dmcnogo']#['reactgo','reactanti']\n",
    "model_n = 0\n",
    "\n",
    "for rule in rule_set:\n",
    "    filename = rule+'_go1.npy'\n",
    "    dir_specific_all = 'grad_norm_l2h000001'\n",
    "    model_dir = os.path.join('/Users/lauradriscoll/Documents/data/rnn/multitask/lowD/',dir_specific_all,'most',str(model_n))\n",
    "    save_dir = os.path.join(model_dir,'fixed_pts',rule)\n",
    "    \n",
    "    fpf_dict[rule] = np.load(os.path.join(save_dir,filename)).item()\n",
    "    trial[rule] = gen_trials_from_model_dir(model_dir,rule)"
   ]
  },
  {
   "cell_type": "code",
   "execution_count": 20,
   "metadata": {
    "collapsed": true
   },
   "outputs": [],
   "source": [
    "xstar_all = fpf_dict[rule_set[0]]['xstar']\n",
    "rule_label_all = np.zeros((np.shape(fpf_dict[rule_set[0]]['xstar'])[0],1))\n",
    "for ri in range(1,len(rule_set)):\n",
    "    xstar_all = np.concatenate((xstar_all, fpf_dict[rule_set[ri]]['xstar']),axis = 0)\n",
    "    rule_label_all = np.concatenate((rule_label_all, ri*np.ones((np.shape(fpf_dict[rule_set[0]]['xstar'])[0],1))),axis = 0)\n",
    "    \n",
    "pca = PCA()\n",
    "xstar_all_pca = pca.fit_transform(xstar_all)"
   ]
  },
  {
   "cell_type": "code",
   "execution_count": 21,
   "metadata": {
    "collapsed": true
   },
   "outputs": [],
   "source": [
    "from sklearn.manifold import MDS\n",
    "\n",
    "X = xstar_all\n",
    "row_means = np.mean(X, axis=0)\n",
    "row_var = np.var(X, axis=0)\n",
    "X_center = X - np.tile(row_means,(X.shape[0],1))\n",
    "X_ball = np.true_divide(X - np.tile(row_means,(X.shape[0],1)), np.tile(row_var,(X.shape[0],1)))\n",
    "xstar_all_dist = euclidean_distances(X_center)\n",
    "\n",
    "embedding = MDS(n_components=2)\n",
    "X_transformed = embedding.fit_transform(xstar_all_dist.astype(np.float64))"
   ]
  },
  {
   "cell_type": "code",
   "execution_count": 23,
   "metadata": {},
   "outputs": [
    {
     "data": {
      "image/png": "[encoded data removed]",
      "text/plain": [
       "<matplotlib.figure.Figure at 0x1238cfb90>"
      ]
     },
     "metadata": {},
     "output_type": "display_data"
    }
   ],
   "source": [
    "fig = plt.figure(figsize=(5, 5),tight_layout=True,facecolor='white')\n",
    "plt.rcParams.update({'font.size': 14})\n",
    "cmap=plt.get_cmap('Set2')\n",
    "\n",
    "plot_rules = range(6)#[0, 1, 3, 4]\n",
    "ax=fig.add_subplot(111)\n",
    "for ri in range(len(plot_rules)):\n",
    "    c = cmap(ri/len(plot_rules))\n",
    "    inds = range(plot_rules[ri]*200,(plot_rules[ri]+1)*200)\n",
    "    plt.plot(X_transformed[inds,0],X_transformed[inds,1],'.',MarkerSize = 40,color = c ,alpha=.5) #np.repeat(range(len(rule_set)), 200)\n",
    "plt.legend([rule_set[j] for j in plot_rules],loc='center left', bbox_to_anchor=(1, 0.5))\n",
    "plt.xlim((1.3*np.min(X_transformed[:,0]),1.3*np.max(X_transformed[:,0])))\n",
    "plt.ylim((1.3*np.min(X_transformed[:,1]),1.3*np.max(X_transformed[:,1])))\n",
    "plt.xlabel('MDS1')\n",
    "plt.ylabel('MDS2')\n",
    "plt.xticks([])\n",
    "plt.yticks([])\n",
    "plt.axis('equal')\n",
    "plt.savefig('ncm/load_fps_compare/' + 'mds_fpts' + \n",
    "            dir_specific_all + '_model_' + str(model_n) + '.svg')\n",
    "plt.show()"
   ]
  },
  {
   "cell_type": "code",
   "execution_count": null,
   "metadata": {
    "collapsed": true
   },
   "outputs": [],
   "source": []
  }
 ],
 "metadata": {
  "kernelspec": {
   "display_name": "Python 2",
   "language": "python",
   "name": "python2"
  },
  "language_info": {
   "codemirror_mode": {
    "name": "ipython",
    "version": 2
   },
   "file_extension": ".py",
   "mimetype": "text/x-python",
   "name": "python",
   "nbconvert_exporter": "python",
   "pygments_lexer": "ipython2",
   "version": "2.7.14"
  }
 },
 "nbformat": 4,
 "nbformat_minor": 2
}
